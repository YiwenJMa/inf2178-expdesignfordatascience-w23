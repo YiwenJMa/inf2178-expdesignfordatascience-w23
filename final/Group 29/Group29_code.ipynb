{
  "nbformat": 4,
  "nbformat_minor": 0,
  "metadata": {
    "colab": {
      "provenance": [],
      "collapsed_sections": [
        "y2GuOFDpqiGH"
      ],
      "include_colab_link": true
    },
    "kernelspec": {
      "name": "python3",
      "display_name": "Python 3"
    },
    "language_info": {
      "name": "python"
    }
  },
  "cells": [
    {
      "cell_type": "markdown",
      "metadata": {
        "id": "view-in-github",
        "colab_type": "text"
      },
      "source": [
        "<a href=\"https://colab.research.google.com/github/vgorchkova/inf2178-expdesignfordatascience-w23/blob/main/Group29_code.ipynb\" target=\"_parent\"><img src=\"https://colab.research.google.com/assets/colab-badge.svg\" alt=\"Open In Colab\"/></a>"
      ]
    },
    {
      "cell_type": "code",
      "execution_count": null,
      "metadata": {
        "id": "RvcJJJIQFmGT"
      },
      "outputs": [],
      "source": [
        "import pandas as pd\n",
        "import numpy as np\n",
        "import matplotlib.pyplot as plt\n",
        "import seaborn as sns\n",
        "from scipy import stats\n",
        "from scipy.stats import levene\n",
        "from scipy.stats import ttest_ind\n",
        "import statsmodels.api as sm\n",
        "from statsmodels.formula.api import ols\n",
        "from scipy.stats import f_oneway"
      ]
    },
    {
      "cell_type": "markdown",
      "source": [],
      "metadata": {
        "id": "lqtP0hBFqqg6"
      }
    },
    {
      "cell_type": "markdown",
      "source": [
        "# **Clean the Dataset**"
      ],
      "metadata": {
        "id": "y2GuOFDpqiGH"
      }
    },
    {
      "cell_type": "markdown",
      "source": [
        "**The dataset include the individuals who are not strip searched**"
      ],
      "metadata": {
        "id": "taZIR-Li8cht"
      }
    },
    {
      "cell_type": "code",
      "source": [
        "# Import the dataset\n",
        "url = \"https://raw.githubusercontent.com/shionguha/inf2178-expdesignfordatascience-w23/main/project%20dataset/Arrests_and_Strip_Searches_(RBDC-ARR-TBL-001).csv\"\n",
        "df = pd.read_csv(url)\n",
        "\n",
        "# Remove columns unnecessary to analysis\n",
        "col = ['Arrest_Year', 'Arrest_Month', 'EventID', 'ArrestID', 'PersonID',\\\n",
        "       'Youth_at_arrest__under_18_years','Booked', 'Occurrence_Category',\\\n",
        "       'Actions_at_arrest___Cooperative',\\\n",
        "       'ItemsFound', 'ObjectId','ArrestLocDiv']\n",
        "\n",
        "# Should use 0 to replace NaN, if we drop all NaN, we will lose individual who did not strip searched \n",
        "df_cleaned = df.drop(columns=col).fillna(0)\n",
        "\n",
        "# Add a column called total number of SearchReasons, adding up reasons\n",
        "\n",
        "df_cleaned['Total_Actions'] = df_cleaned.apply(lambda row: row['Actions_at_arrest___Concealed_i'] + row['Actions_at_arrest___Combative__'] + \\\n",
        "                                    row['Actions_at_arrest___Resisted__d'] + row['Actions_at_arrest___Mental_inst'] + \\\n",
        "                                                      row['Actions_at_arrest___Assaulted_o'], axis=1)\n",
        "df_cleaned['Total_Search'] = df_cleaned['Total_SearchReason'] = df_cleaned.apply(lambda row: row['SearchReason_CauseInjury'] + row['SearchReason_AssistEscape'] + \\\n",
        "                                    row['SearchReason_PossessWeapons'] + row['SearchReason_PossessEvidence'], axis=1)\n",
        "df_cleaned = df_cleaned.drop(['Actions_at_arrest___Concealed_i',\\\n",
        "       'Actions_at_arrest___Combative__', 'Actions_at_arrest___Resisted__d',\\\n",
        "       'Actions_at_arrest___Assaulted_o','Actions_at_arrest___Mental_inst',\\\n",
        "       'SearchReason_CauseInjury', 'SearchReason_AssistEscape', \\\n",
        "       'SearchReason_PossessWeapons', 'SearchReason_PossessEvidence','Total_Search'], axis=1)\n",
        "\n",
        "\n",
        "# Remove columns with 'Unknown or Legacy' for perceived race.\n",
        "df_cleaned.drop(df_cleaned[df_cleaned['Perceived_Race'] == \"Unknown or Legacy\"].index, inplace = True)\n",
        "\n",
        "# Remove the 'U' Sex, since there are only 6 in the entire dataset.\n",
        "df_cleaned.drop(df_cleaned[df_cleaned['Sex'] == \"U\"].index, inplace = True)\n",
        "\n",
        "# #Rename columns to be more legible\n",
        "df_cleaned.rename(columns={'Perceived_Race':'Race',\"Age_group__at_arrest_\":\"Age_Group\"}, inplace=True)\n",
        "\n",
        "# convert the  \"Total_SearchReason\" column from float to int\n",
        "df_cleaned['Total_SearchReason'] = df_cleaned['Total_SearchReason'].astype(int)\n",
        "\n",
        "#Categrical level are repeated, thus, converge 'Aged 17 years and under' to 'Aged 17 years and younger', and 'Aged 65 and older' to 'Aged 65 years and older'\n",
        "df_cleaned['Age_Group'] = df_cleaned['Age_Group'].replace(['Aged 17 years and under','Aged 65 and older'],[ 'Aged 17 years and younger','Aged 65 years and older'])\n",
        "\n",
        "#Remove 0 for Age_Group and Race Since we replace NaN to 0 before)\n",
        "df_cleaned = df_cleaned[(df_cleaned['Race'] != 0) & (df_cleaned['Age_Group'] != 0)]\n",
        "\n",
        "#Reset index\n",
        "df_cleaned = df_cleaned.reset_index(drop = True)\n",
        "\n",
        "#age group convert to continous variable (Integer)\n",
        "df_cleaned['Age_Group'] = df_cleaned['Age_Group'].replace(['Aged 17 years and younger','Aged 18 to 24 years','Aged 25 to 34 years',\\\n",
        "                                                          'Aged 35 to 44 years','Aged 45 to 54 years','Aged 55 to 64 years','Aged 65 years and older'],\\\n",
        "                                                          [ '17','21','30','40','50','60','65']).astype(int)\n",
        "df_cleaned"
      ],
      "metadata": {
        "id": "i65l9DuMPdwv",
        "colab": {
          "base_uri": "https://localhost:8080/"
        },
        "outputId": "97867231-9d04-4d3d-a3e1-ff79d06c9d5d"
      },
      "execution_count": null,
      "outputs": [
        {
          "output_type": "execute_result",
          "data": {
            "text/plain": [
              "              Race Sex  Age_Group  StripSearch  Total_Actions  \\\n",
              "0            White   M         40            0              0   \n",
              "1            White   M         40            0              0   \n",
              "2            Black   M         30            0              0   \n",
              "3      South Asian   M         30            0              0   \n",
              "4      South Asian   M         30            0              0   \n",
              "...            ...  ..        ...          ...            ...   \n",
              "60182        White   F         30            0              0   \n",
              "60183   Indigenous   F         30            0              1   \n",
              "60184  South Asian   M         40            0              0   \n",
              "60185        White   F         50            0              0   \n",
              "60186       Latino   M         21            0              0   \n",
              "\n",
              "       Total_SearchReason  \n",
              "0                       0  \n",
              "1                       0  \n",
              "2                       0  \n",
              "3                       0  \n",
              "4                       0  \n",
              "...                   ...  \n",
              "60182                   0  \n",
              "60183                   0  \n",
              "60184                   0  \n",
              "60185                   0  \n",
              "60186                   0  \n",
              "\n",
              "[60187 rows x 6 columns]"
            ],
            "text/html": [
              "\n",
              "  <div id=\"df-bf4dfda8-b34b-494d-8b4f-7aaabcdf8124\">\n",
              "    <div class=\"colab-df-container\">\n",
              "      <div>\n",
              "<style scoped>\n",
              "    .dataframe tbody tr th:only-of-type {\n",
              "        vertical-align: middle;\n",
              "    }\n",
              "\n",
              "    .dataframe tbody tr th {\n",
              "        vertical-align: top;\n",
              "    }\n",
              "\n",
              "    .dataframe thead th {\n",
              "        text-align: right;\n",
              "    }\n",
              "</style>\n",
              "<table border=\"1\" class=\"dataframe\">\n",
              "  <thead>\n",
              "    <tr style=\"text-align: right;\">\n",
              "      <th></th>\n",
              "      <th>Race</th>\n",
              "      <th>Sex</th>\n",
              "      <th>Age_Group</th>\n",
              "      <th>StripSearch</th>\n",
              "      <th>Total_Actions</th>\n",
              "      <th>Total_SearchReason</th>\n",
              "    </tr>\n",
              "  </thead>\n",
              "  <tbody>\n",
              "    <tr>\n",
              "      <th>0</th>\n",
              "      <td>White</td>\n",
              "      <td>M</td>\n",
              "      <td>40</td>\n",
              "      <td>0</td>\n",
              "      <td>0</td>\n",
              "      <td>0</td>\n",
              "    </tr>\n",
              "    <tr>\n",
              "      <th>1</th>\n",
              "      <td>White</td>\n",
              "      <td>M</td>\n",
              "      <td>40</td>\n",
              "      <td>0</td>\n",
              "      <td>0</td>\n",
              "      <td>0</td>\n",
              "    </tr>\n",
              "    <tr>\n",
              "      <th>2</th>\n",
              "      <td>Black</td>\n",
              "      <td>M</td>\n",
              "      <td>30</td>\n",
              "      <td>0</td>\n",
              "      <td>0</td>\n",
              "      <td>0</td>\n",
              "    </tr>\n",
              "    <tr>\n",
              "      <th>3</th>\n",
              "      <td>South Asian</td>\n",
              "      <td>M</td>\n",
              "      <td>30</td>\n",
              "      <td>0</td>\n",
              "      <td>0</td>\n",
              "      <td>0</td>\n",
              "    </tr>\n",
              "    <tr>\n",
              "      <th>4</th>\n",
              "      <td>South Asian</td>\n",
              "      <td>M</td>\n",
              "      <td>30</td>\n",
              "      <td>0</td>\n",
              "      <td>0</td>\n",
              "      <td>0</td>\n",
              "    </tr>\n",
              "    <tr>\n",
              "      <th>...</th>\n",
              "      <td>...</td>\n",
              "      <td>...</td>\n",
              "      <td>...</td>\n",
              "      <td>...</td>\n",
              "      <td>...</td>\n",
              "      <td>...</td>\n",
              "    </tr>\n",
              "    <tr>\n",
              "      <th>60182</th>\n",
              "      <td>White</td>\n",
              "      <td>F</td>\n",
              "      <td>30</td>\n",
              "      <td>0</td>\n",
              "      <td>0</td>\n",
              "      <td>0</td>\n",
              "    </tr>\n",
              "    <tr>\n",
              "      <th>60183</th>\n",
              "      <td>Indigenous</td>\n",
              "      <td>F</td>\n",
              "      <td>30</td>\n",
              "      <td>0</td>\n",
              "      <td>1</td>\n",
              "      <td>0</td>\n",
              "    </tr>\n",
              "    <tr>\n",
              "      <th>60184</th>\n",
              "      <td>South Asian</td>\n",
              "      <td>M</td>\n",
              "      <td>40</td>\n",
              "      <td>0</td>\n",
              "      <td>0</td>\n",
              "      <td>0</td>\n",
              "    </tr>\n",
              "    <tr>\n",
              "      <th>60185</th>\n",
              "      <td>White</td>\n",
              "      <td>F</td>\n",
              "      <td>50</td>\n",
              "      <td>0</td>\n",
              "      <td>0</td>\n",
              "      <td>0</td>\n",
              "    </tr>\n",
              "    <tr>\n",
              "      <th>60186</th>\n",
              "      <td>Latino</td>\n",
              "      <td>M</td>\n",
              "      <td>21</td>\n",
              "      <td>0</td>\n",
              "      <td>0</td>\n",
              "      <td>0</td>\n",
              "    </tr>\n",
              "  </tbody>\n",
              "</table>\n",
              "<p>60187 rows × 6 columns</p>\n",
              "</div>\n",
              "      <button class=\"colab-df-convert\" onclick=\"convertToInteractive('df-bf4dfda8-b34b-494d-8b4f-7aaabcdf8124')\"\n",
              "              title=\"Convert this dataframe to an interactive table.\"\n",
              "              style=\"display:none;\">\n",
              "        \n",
              "  <svg xmlns=\"http://www.w3.org/2000/svg\" height=\"24px\"viewBox=\"0 0 24 24\"\n",
              "       width=\"24px\">\n",
              "    <path d=\"M0 0h24v24H0V0z\" fill=\"none\"/>\n",
              "    <path d=\"M18.56 5.44l.94 2.06.94-2.06 2.06-.94-2.06-.94-.94-2.06-.94 2.06-2.06.94zm-11 1L8.5 8.5l.94-2.06 2.06-.94-2.06-.94L8.5 2.5l-.94 2.06-2.06.94zm10 10l.94 2.06.94-2.06 2.06-.94-2.06-.94-.94-2.06-.94 2.06-2.06.94z\"/><path d=\"M17.41 7.96l-1.37-1.37c-.4-.4-.92-.59-1.43-.59-.52 0-1.04.2-1.43.59L10.3 9.45l-7.72 7.72c-.78.78-.78 2.05 0 2.83L4 21.41c.39.39.9.59 1.41.59.51 0 1.02-.2 1.41-.59l7.78-7.78 2.81-2.81c.8-.78.8-2.07 0-2.86zM5.41 20L4 18.59l7.72-7.72 1.47 1.35L5.41 20z\"/>\n",
              "  </svg>\n",
              "      </button>\n",
              "      \n",
              "  <style>\n",
              "    .colab-df-container {\n",
              "      display:flex;\n",
              "      flex-wrap:wrap;\n",
              "      gap: 12px;\n",
              "    }\n",
              "\n",
              "    .colab-df-convert {\n",
              "      background-color: #E8F0FE;\n",
              "      border: none;\n",
              "      border-radius: 50%;\n",
              "      cursor: pointer;\n",
              "      display: none;\n",
              "      fill: #1967D2;\n",
              "      height: 32px;\n",
              "      padding: 0 0 0 0;\n",
              "      width: 32px;\n",
              "    }\n",
              "\n",
              "    .colab-df-convert:hover {\n",
              "      background-color: #E2EBFA;\n",
              "      box-shadow: 0px 1px 2px rgba(60, 64, 67, 0.3), 0px 1px 3px 1px rgba(60, 64, 67, 0.15);\n",
              "      fill: #174EA6;\n",
              "    }\n",
              "\n",
              "    [theme=dark] .colab-df-convert {\n",
              "      background-color: #3B4455;\n",
              "      fill: #D2E3FC;\n",
              "    }\n",
              "\n",
              "    [theme=dark] .colab-df-convert:hover {\n",
              "      background-color: #434B5C;\n",
              "      box-shadow: 0px 1px 3px 1px rgba(0, 0, 0, 0.15);\n",
              "      filter: drop-shadow(0px 1px 2px rgba(0, 0, 0, 0.3));\n",
              "      fill: #FFFFFF;\n",
              "    }\n",
              "  </style>\n",
              "\n",
              "      <script>\n",
              "        const buttonEl =\n",
              "          document.querySelector('#df-bf4dfda8-b34b-494d-8b4f-7aaabcdf8124 button.colab-df-convert');\n",
              "        buttonEl.style.display =\n",
              "          google.colab.kernel.accessAllowed ? 'block' : 'none';\n",
              "\n",
              "        async function convertToInteractive(key) {\n",
              "          const element = document.querySelector('#df-bf4dfda8-b34b-494d-8b4f-7aaabcdf8124');\n",
              "          const dataTable =\n",
              "            await google.colab.kernel.invokeFunction('convertToInteractive',\n",
              "                                                     [key], {});\n",
              "          if (!dataTable) return;\n",
              "\n",
              "          const docLinkHtml = 'Like what you see? Visit the ' +\n",
              "            '<a target=\"_blank\" href=https://colab.research.google.com/notebooks/data_table.ipynb>data table notebook</a>'\n",
              "            + ' to learn more about interactive tables.';\n",
              "          element.innerHTML = '';\n",
              "          dataTable['output_type'] = 'display_data';\n",
              "          await google.colab.output.renderOutput(dataTable, element);\n",
              "          const docLink = document.createElement('div');\n",
              "          docLink.innerHTML = docLinkHtml;\n",
              "          element.appendChild(docLink);\n",
              "        }\n",
              "      </script>\n",
              "    </div>\n",
              "  </div>\n",
              "  "
            ]
          },
          "metadata": {},
          "execution_count": 2
        }
      ]
    },
    {
      "cell_type": "markdown",
      "source": [
        "**Dataset for individual who strip searched**"
      ],
      "metadata": {
        "id": "rdUTdKY1d6ps"
      }
    },
    {
      "cell_type": "code",
      "source": [
        "df_cleaned_SS = df_cleaned.loc[df_cleaned['StripSearch'].isin([1])]\n",
        "df_cleaned_SS"
      ],
      "metadata": {
        "colab": {
          "base_uri": "https://localhost:8080/"
        },
        "id": "1VDr7t8bEVM_",
        "outputId": "6f14525a-e987-4db8-f99c-43724cf40e50"
      },
      "execution_count": null,
      "outputs": [
        {
          "output_type": "execute_result",
          "data": {
            "text/plain": [
              "              Race Sex  Age_Group  StripSearch  Total_Actions  \\\n",
              "11           Black   M         30            1              0   \n",
              "13           Black   M         30            1              0   \n",
              "27           White   M         40            1              0   \n",
              "32          Latino   M         21            1              0   \n",
              "36     South Asian   F         30            1              0   \n",
              "...            ...  ..        ...          ...            ...   \n",
              "58911        Black   M         30            1              0   \n",
              "59089        White   M         40            1              0   \n",
              "59209  South Asian   M         30            1              0   \n",
              "59313        Black   M         17            1              0   \n",
              "59386        Black   M         30            1              0   \n",
              "\n",
              "       Total_SearchReason  \n",
              "11                      3  \n",
              "13                      3  \n",
              "27                      2  \n",
              "32                      2  \n",
              "36                      1  \n",
              "...                   ...  \n",
              "58911                   2  \n",
              "59089                   0  \n",
              "59209                   1  \n",
              "59313                   2  \n",
              "59386                   1  \n",
              "\n",
              "[7264 rows x 6 columns]"
            ],
            "text/html": [
              "\n",
              "  <div id=\"df-ed3cfc15-d91a-4cfc-9bd9-c236bd774354\">\n",
              "    <div class=\"colab-df-container\">\n",
              "      <div>\n",
              "<style scoped>\n",
              "    .dataframe tbody tr th:only-of-type {\n",
              "        vertical-align: middle;\n",
              "    }\n",
              "\n",
              "    .dataframe tbody tr th {\n",
              "        vertical-align: top;\n",
              "    }\n",
              "\n",
              "    .dataframe thead th {\n",
              "        text-align: right;\n",
              "    }\n",
              "</style>\n",
              "<table border=\"1\" class=\"dataframe\">\n",
              "  <thead>\n",
              "    <tr style=\"text-align: right;\">\n",
              "      <th></th>\n",
              "      <th>Race</th>\n",
              "      <th>Sex</th>\n",
              "      <th>Age_Group</th>\n",
              "      <th>StripSearch</th>\n",
              "      <th>Total_Actions</th>\n",
              "      <th>Total_SearchReason</th>\n",
              "    </tr>\n",
              "  </thead>\n",
              "  <tbody>\n",
              "    <tr>\n",
              "      <th>11</th>\n",
              "      <td>Black</td>\n",
              "      <td>M</td>\n",
              "      <td>30</td>\n",
              "      <td>1</td>\n",
              "      <td>0</td>\n",
              "      <td>3</td>\n",
              "    </tr>\n",
              "    <tr>\n",
              "      <th>13</th>\n",
              "      <td>Black</td>\n",
              "      <td>M</td>\n",
              "      <td>30</td>\n",
              "      <td>1</td>\n",
              "      <td>0</td>\n",
              "      <td>3</td>\n",
              "    </tr>\n",
              "    <tr>\n",
              "      <th>27</th>\n",
              "      <td>White</td>\n",
              "      <td>M</td>\n",
              "      <td>40</td>\n",
              "      <td>1</td>\n",
              "      <td>0</td>\n",
              "      <td>2</td>\n",
              "    </tr>\n",
              "    <tr>\n",
              "      <th>32</th>\n",
              "      <td>Latino</td>\n",
              "      <td>M</td>\n",
              "      <td>21</td>\n",
              "      <td>1</td>\n",
              "      <td>0</td>\n",
              "      <td>2</td>\n",
              "    </tr>\n",
              "    <tr>\n",
              "      <th>36</th>\n",
              "      <td>South Asian</td>\n",
              "      <td>F</td>\n",
              "      <td>30</td>\n",
              "      <td>1</td>\n",
              "      <td>0</td>\n",
              "      <td>1</td>\n",
              "    </tr>\n",
              "    <tr>\n",
              "      <th>...</th>\n",
              "      <td>...</td>\n",
              "      <td>...</td>\n",
              "      <td>...</td>\n",
              "      <td>...</td>\n",
              "      <td>...</td>\n",
              "      <td>...</td>\n",
              "    </tr>\n",
              "    <tr>\n",
              "      <th>58911</th>\n",
              "      <td>Black</td>\n",
              "      <td>M</td>\n",
              "      <td>30</td>\n",
              "      <td>1</td>\n",
              "      <td>0</td>\n",
              "      <td>2</td>\n",
              "    </tr>\n",
              "    <tr>\n",
              "      <th>59089</th>\n",
              "      <td>White</td>\n",
              "      <td>M</td>\n",
              "      <td>40</td>\n",
              "      <td>1</td>\n",
              "      <td>0</td>\n",
              "      <td>0</td>\n",
              "    </tr>\n",
              "    <tr>\n",
              "      <th>59209</th>\n",
              "      <td>South Asian</td>\n",
              "      <td>M</td>\n",
              "      <td>30</td>\n",
              "      <td>1</td>\n",
              "      <td>0</td>\n",
              "      <td>1</td>\n",
              "    </tr>\n",
              "    <tr>\n",
              "      <th>59313</th>\n",
              "      <td>Black</td>\n",
              "      <td>M</td>\n",
              "      <td>17</td>\n",
              "      <td>1</td>\n",
              "      <td>0</td>\n",
              "      <td>2</td>\n",
              "    </tr>\n",
              "    <tr>\n",
              "      <th>59386</th>\n",
              "      <td>Black</td>\n",
              "      <td>M</td>\n",
              "      <td>30</td>\n",
              "      <td>1</td>\n",
              "      <td>0</td>\n",
              "      <td>1</td>\n",
              "    </tr>\n",
              "  </tbody>\n",
              "</table>\n",
              "<p>7264 rows × 6 columns</p>\n",
              "</div>\n",
              "      <button class=\"colab-df-convert\" onclick=\"convertToInteractive('df-ed3cfc15-d91a-4cfc-9bd9-c236bd774354')\"\n",
              "              title=\"Convert this dataframe to an interactive table.\"\n",
              "              style=\"display:none;\">\n",
              "        \n",
              "  <svg xmlns=\"http://www.w3.org/2000/svg\" height=\"24px\"viewBox=\"0 0 24 24\"\n",
              "       width=\"24px\">\n",
              "    <path d=\"M0 0h24v24H0V0z\" fill=\"none\"/>\n",
              "    <path d=\"M18.56 5.44l.94 2.06.94-2.06 2.06-.94-2.06-.94-.94-2.06-.94 2.06-2.06.94zm-11 1L8.5 8.5l.94-2.06 2.06-.94-2.06-.94L8.5 2.5l-.94 2.06-2.06.94zm10 10l.94 2.06.94-2.06 2.06-.94-2.06-.94-.94-2.06-.94 2.06-2.06.94z\"/><path d=\"M17.41 7.96l-1.37-1.37c-.4-.4-.92-.59-1.43-.59-.52 0-1.04.2-1.43.59L10.3 9.45l-7.72 7.72c-.78.78-.78 2.05 0 2.83L4 21.41c.39.39.9.59 1.41.59.51 0 1.02-.2 1.41-.59l7.78-7.78 2.81-2.81c.8-.78.8-2.07 0-2.86zM5.41 20L4 18.59l7.72-7.72 1.47 1.35L5.41 20z\"/>\n",
              "  </svg>\n",
              "      </button>\n",
              "      \n",
              "  <style>\n",
              "    .colab-df-container {\n",
              "      display:flex;\n",
              "      flex-wrap:wrap;\n",
              "      gap: 12px;\n",
              "    }\n",
              "\n",
              "    .colab-df-convert {\n",
              "      background-color: #E8F0FE;\n",
              "      border: none;\n",
              "      border-radius: 50%;\n",
              "      cursor: pointer;\n",
              "      display: none;\n",
              "      fill: #1967D2;\n",
              "      height: 32px;\n",
              "      padding: 0 0 0 0;\n",
              "      width: 32px;\n",
              "    }\n",
              "\n",
              "    .colab-df-convert:hover {\n",
              "      background-color: #E2EBFA;\n",
              "      box-shadow: 0px 1px 2px rgba(60, 64, 67, 0.3), 0px 1px 3px 1px rgba(60, 64, 67, 0.15);\n",
              "      fill: #174EA6;\n",
              "    }\n",
              "\n",
              "    [theme=dark] .colab-df-convert {\n",
              "      background-color: #3B4455;\n",
              "      fill: #D2E3FC;\n",
              "    }\n",
              "\n",
              "    [theme=dark] .colab-df-convert:hover {\n",
              "      background-color: #434B5C;\n",
              "      box-shadow: 0px 1px 3px 1px rgba(0, 0, 0, 0.15);\n",
              "      filter: drop-shadow(0px 1px 2px rgba(0, 0, 0, 0.3));\n",
              "      fill: #FFFFFF;\n",
              "    }\n",
              "  </style>\n",
              "\n",
              "      <script>\n",
              "        const buttonEl =\n",
              "          document.querySelector('#df-ed3cfc15-d91a-4cfc-9bd9-c236bd774354 button.colab-df-convert');\n",
              "        buttonEl.style.display =\n",
              "          google.colab.kernel.accessAllowed ? 'block' : 'none';\n",
              "\n",
              "        async function convertToInteractive(key) {\n",
              "          const element = document.querySelector('#df-ed3cfc15-d91a-4cfc-9bd9-c236bd774354');\n",
              "          const dataTable =\n",
              "            await google.colab.kernel.invokeFunction('convertToInteractive',\n",
              "                                                     [key], {});\n",
              "          if (!dataTable) return;\n",
              "\n",
              "          const docLinkHtml = 'Like what you see? Visit the ' +\n",
              "            '<a target=\"_blank\" href=https://colab.research.google.com/notebooks/data_table.ipynb>data table notebook</a>'\n",
              "            + ' to learn more about interactive tables.';\n",
              "          element.innerHTML = '';\n",
              "          dataTable['output_type'] = 'display_data';\n",
              "          await google.colab.output.renderOutput(dataTable, element);\n",
              "          const docLink = document.createElement('div');\n",
              "          docLink.innerHTML = docLinkHtml;\n",
              "          element.appendChild(docLink);\n",
              "        }\n",
              "      </script>\n",
              "    </div>\n",
              "  </div>\n",
              "  "
            ]
          },
          "metadata": {},
          "execution_count": 3
        }
      ]
    },
    {
      "cell_type": "markdown",
      "source": [
        "# **EDA**"
      ],
      "metadata": {
        "id": "q8obkyMPeWtS"
      }
    },
    {
      "cell_type": "markdown",
      "source": [
        "**RACE FREQUENCY BARPLOT**"
      ],
      "metadata": {
        "id": "k33YR8_bm0np"
      }
    },
    {
      "cell_type": "code",
      "source": [
        "count_table_race = df_cleaned.value_counts(df_cleaned[\"Race\"])\n",
        "\n",
        "# Create a bar plot of the count table\n",
        "race_bar = count_table_race.plot.bar(figsize=(10, 6),fontsize = 14, color='#25355A')\n",
        "\n",
        "# Set the title and axis labels\n",
        "race_bar.set_title('Race Count',fontsize = 14)\n",
        "race_bar.set_xlabel('Race',fontsize = 14)\n",
        "race_bar.set_ylabel('Count',fontsize = 14)\n",
        "\n",
        "# Add a legend\n",
        "race_bar.legend(['Race'],fontsize = 14)"
      ],
      "metadata": {
        "colab": {
          "base_uri": "https://localhost:8080/"
        },
        "id": "Os3mSJ7necJ0",
        "outputId": "adffab03-b0be-4243-a101-818df1a621fd"
      },
      "execution_count": null,
      "outputs": [
        {
          "output_type": "execute_result",
          "data": {
            "text/plain": [
              "<matplotlib.legend.Legend at 0x7f65682d0fd0>"
            ]
          },
          "metadata": {},
          "execution_count": 4
        },
        {
          "output_type": "display_data",
          "data": {
            "text/plain": [
              "<Figure size 1000x600 with 1 Axes>"
            ],
            "image/png": "[encoded data removed]"
          },
          "metadata": {}
        }
      ]
    },
    {
      "cell_type": "markdown",
      "source": [
        "**GENDER FREQUENCY BAR PLOT**"
      ],
      "metadata": {
        "id": "_7AH1HVLnJK8"
      }
    },
    {
      "cell_type": "code",
      "source": [
        "count_table_Sex = df_cleaned.value_counts(df_cleaned[\"Sex\"])\n",
        "count_table_Sex = count_table_Sex.plot.bar(figsize=(10, 6),color='#25355A')\n",
        "\n",
        "count_table_Sex.set_title('Gender Count')\n",
        "count_table_Sex.set_xlabel('Gender')\n",
        "count_table_Sex.set_ylabel('Count')"
      ],
      "metadata": {
        "colab": {
          "base_uri": "https://localhost:8080/"
        },
        "id": "1berqOeinGhD",
        "outputId": "d943363d-c84f-4310-9dc3-d37bf523f137"
      },
      "execution_count": null,
      "outputs": [
        {
          "output_type": "execute_result",
          "data": {
            "text/plain": [
              "Text(0, 0.5, 'Count')"
            ]
          },
          "metadata": {},
          "execution_count": 5
        },
        {
          "output_type": "display_data",
          "data": {
            "text/plain": [
              "<Figure size 1000x600 with 1 Axes>"
            ],
            "image/png": "[encoded data removed]"
          },
          "metadata": {}
        }
      ]
    },
    {
      "cell_type": "markdown",
      "source": [
        "**Age frequency barplot**"
      ],
      "metadata": {
        "id": "81d6EqNynUiV"
      }
    },
    {
      "cell_type": "code",
      "source": [
        "count_table_Age_Group = df_cleaned.value_counts(df_cleaned[\"Age_Group\"])\n",
        "count_table_Age_Group = count_table_Age_Group.plot.bar(figsize=(12, 8),color='#25355A')\n",
        "\n",
        "count_table_Age_Group.set_title('Age_Group Count')\n",
        "count_table_Age_Group.set_xlabel('Age_Group')\n",
        "count_table_Age_Group.set_ylabel('Count')"
      ],
      "metadata": {
        "colab": {
          "base_uri": "https://localhost:8080/"
        },
        "id": "h7HjZ6q1nHDz",
        "outputId": "e7582fab-34e2-4dbc-8c6c-9c37fffc9a7c"
      },
      "execution_count": null,
      "outputs": [
        {
          "output_type": "execute_result",
          "data": {
            "text/plain": [
              "Text(0, 0.5, 'Count')"
            ]
          },
          "metadata": {},
          "execution_count": 6
        },
        {
          "output_type": "display_data",
          "data": {
            "text/plain": [
              "<Figure size 1200x800 with 1 Axes>"
            ],
            "image/png": "[encoded data removed]"
          },
          "metadata": {}
        }
      ]
    },
    {
      "cell_type": "markdown",
      "source": [
        "**Stripsearch barplot**"
      ],
      "metadata": {
        "id": "NSLR07KxnbJs"
      }
    },
    {
      "cell_type": "code",
      "source": [
        "count_table_strip = df_cleaned.value_counts(df_cleaned[\"StripSearch\"])\n",
        "strip_bar = count_table_strip.plot.bar(figsize=(10, 6),color='#25355A')\n",
        "\n",
        "strip_bar.set_title('StripSearch count')\n",
        "strip_bar.set_xlabel('Strip Searched')\n",
        "strip_bar.set_ylabel('Count')"
      ],
      "metadata": {
        "colab": {
          "base_uri": "https://localhost:8080/"
        },
        "id": "82s7lxZonHGH",
        "outputId": "9beeaacf-8eb0-4d27-dc90-4bea30964cb7"
      },
      "execution_count": null,
      "outputs": [
        {
          "output_type": "execute_result",
          "data": {
            "text/plain": [
              "Text(0, 0.5, 'Count')"
            ]
          },
          "metadata": {},
          "execution_count": 7
        },
        {
          "output_type": "display_data",
          "data": {
            "text/plain": [
              "<Figure size 1000x600 with 1 Axes>"
            ],
            "image/png": "[encoded data removed]"
          },
          "metadata": {}
        }
      ]
    },
    {
      "cell_type": "markdown",
      "source": [
        "**Pivot Table and plot for probability of StripSearch by Race**"
      ],
      "metadata": {
        "id": "e9m2EIvVnlL8"
      }
    },
    {
      "cell_type": "code",
      "source": [
        "pivot_Race_SS = pd.pivot_table(df_cleaned,index ='Race', values='StripSearch')\n",
        "pivot_Race_SS"
      ],
      "metadata": {
        "colab": {
          "base_uri": "https://localhost:8080/"
        },
        "id": "zB_E71CAnHIk",
        "outputId": "b4c96c46-cef1-4363-be84-d8be34b57ab6"
      },
      "execution_count": null,
      "outputs": [
        {
          "output_type": "execute_result",
          "data": {
            "text/plain": [
              "                      StripSearch\n",
              "Race                             \n",
              "Black                    0.138943\n",
              "East/Southeast Asian     0.077289\n",
              "Indigenous               0.158385\n",
              "Latino                   0.074703\n",
              "Middle-Eastern           0.070436\n",
              "South Asian              0.071132\n",
              "White                    0.128699"
            ],
            "text/html": [
              "\n",
              "  <div id=\"df-7c8ebaf6-69af-4738-b49a-ae8f37efd938\">\n",
              "    <div class=\"colab-df-container\">\n",
              "      <div>\n",
              "<style scoped>\n",
              "    .dataframe tbody tr th:only-of-type {\n",
              "        vertical-align: middle;\n",
              "    }\n",
              "\n",
              "    .dataframe tbody tr th {\n",
              "        vertical-align: top;\n",
              "    }\n",
              "\n",
              "    .dataframe thead th {\n",
              "        text-align: right;\n",
              "    }\n",
              "</style>\n",
              "<table border=\"1\" class=\"dataframe\">\n",
              "  <thead>\n",
              "    <tr style=\"text-align: right;\">\n",
              "      <th></th>\n",
              "      <th>StripSearch</th>\n",
              "    </tr>\n",
              "    <tr>\n",
              "      <th>Race</th>\n",
              "      <th></th>\n",
              "    </tr>\n",
              "  </thead>\n",
              "  <tbody>\n",
              "    <tr>\n",
              "      <th>Black</th>\n",
              "      <td>0.138943</td>\n",
              "    </tr>\n",
              "    <tr>\n",
              "      <th>East/Southeast Asian</th>\n",
              "      <td>0.077289</td>\n",
              "    </tr>\n",
              "    <tr>\n",
              "      <th>Indigenous</th>\n",
              "      <td>0.158385</td>\n",
              "    </tr>\n",
              "    <tr>\n",
              "      <th>Latino</th>\n",
              "      <td>0.074703</td>\n",
              "    </tr>\n",
              "    <tr>\n",
              "      <th>Middle-Eastern</th>\n",
              "      <td>0.070436</td>\n",
              "    </tr>\n",
              "    <tr>\n",
              "      <th>South Asian</th>\n",
              "      <td>0.071132</td>\n",
              "    </tr>\n",
              "    <tr>\n",
              "      <th>White</th>\n",
              "      <td>0.128699</td>\n",
              "    </tr>\n",
              "  </tbody>\n",
              "</table>\n",
              "</div>\n",
              "      <button class=\"colab-df-convert\" onclick=\"convertToInteractive('df-7c8ebaf6-69af-4738-b49a-ae8f37efd938')\"\n",
              "              title=\"Convert this dataframe to an interactive table.\"\n",
              "              style=\"display:none;\">\n",
              "        \n",
              "  <svg xmlns=\"http://www.w3.org/2000/svg\" height=\"24px\"viewBox=\"0 0 24 24\"\n",
              "       width=\"24px\">\n",
              "    <path d=\"M0 0h24v24H0V0z\" fill=\"none\"/>\n",
              "    <path d=\"M18.56 5.44l.94 2.06.94-2.06 2.06-.94-2.06-.94-.94-2.06-.94 2.06-2.06.94zm-11 1L8.5 8.5l.94-2.06 2.06-.94-2.06-.94L8.5 2.5l-.94 2.06-2.06.94zm10 10l.94 2.06.94-2.06 2.06-.94-2.06-.94-.94-2.06-.94 2.06-2.06.94z\"/><path d=\"M17.41 7.96l-1.37-1.37c-.4-.4-.92-.59-1.43-.59-.52 0-1.04.2-1.43.59L10.3 9.45l-7.72 7.72c-.78.78-.78 2.05 0 2.83L4 21.41c.39.39.9.59 1.41.59.51 0 1.02-.2 1.41-.59l7.78-7.78 2.81-2.81c.8-.78.8-2.07 0-2.86zM5.41 20L4 18.59l7.72-7.72 1.47 1.35L5.41 20z\"/>\n",
              "  </svg>\n",
              "      </button>\n",
              "      \n",
              "  <style>\n",
              "    .colab-df-container {\n",
              "      display:flex;\n",
              "      flex-wrap:wrap;\n",
              "      gap: 12px;\n",
              "    }\n",
              "\n",
              "    .colab-df-convert {\n",
              "      background-color: #E8F0FE;\n",
              "      border: none;\n",
              "      border-radius: 50%;\n",
              "      cursor: pointer;\n",
              "      display: none;\n",
              "      fill: #1967D2;\n",
              "      height: 32px;\n",
              "      padding: 0 0 0 0;\n",
              "      width: 32px;\n",
              "    }\n",
              "\n",
              "    .colab-df-convert:hover {\n",
              "      background-color: #E2EBFA;\n",
              "      box-shadow: 0px 1px 2px rgba(60, 64, 67, 0.3), 0px 1px 3px 1px rgba(60, 64, 67, 0.15);\n",
              "      fill: #174EA6;\n",
              "    }\n",
              "\n",
              "    [theme=dark] .colab-df-convert {\n",
              "      background-color: #3B4455;\n",
              "      fill: #D2E3FC;\n",
              "    }\n",
              "\n",
              "    [theme=dark] .colab-df-convert:hover {\n",
              "      background-color: #434B5C;\n",
              "      box-shadow: 0px 1px 3px 1px rgba(0, 0, 0, 0.15);\n",
              "      filter: drop-shadow(0px 1px 2px rgba(0, 0, 0, 0.3));\n",
              "      fill: #FFFFFF;\n",
              "    }\n",
              "  </style>\n",
              "\n",
              "      <script>\n",
              "        const buttonEl =\n",
              "          document.querySelector('#df-7c8ebaf6-69af-4738-b49a-ae8f37efd938 button.colab-df-convert');\n",
              "        buttonEl.style.display =\n",
              "          google.colab.kernel.accessAllowed ? 'block' : 'none';\n",
              "\n",
              "        async function convertToInteractive(key) {\n",
              "          const element = document.querySelector('#df-7c8ebaf6-69af-4738-b49a-ae8f37efd938');\n",
              "          const dataTable =\n",
              "            await google.colab.kernel.invokeFunction('convertToInteractive',\n",
              "                                                     [key], {});\n",
              "          if (!dataTable) return;\n",
              "\n",
              "          const docLinkHtml = 'Like what you see? Visit the ' +\n",
              "            '<a target=\"_blank\" href=https://colab.research.google.com/notebooks/data_table.ipynb>data table notebook</a>'\n",
              "            + ' to learn more about interactive tables.';\n",
              "          element.innerHTML = '';\n",
              "          dataTable['output_type'] = 'display_data';\n",
              "          await google.colab.output.renderOutput(dataTable, element);\n",
              "          const docLink = document.createElement('div');\n",
              "          docLink.innerHTML = docLinkHtml;\n",
              "          element.appendChild(docLink);\n",
              "        }\n",
              "      </script>\n",
              "    </div>\n",
              "  </div>\n",
              "  "
            ]
          },
          "metadata": {},
          "execution_count": 8
        }
      ]
    },
    {
      "cell_type": "code",
      "source": [
        "race_SS_bar = pivot_Race_SS.plot.bar(figsize=(10, 6),fontsize = 14, color='#25355A')\n",
        "\n",
        "race_SS_bar.set_title('Race VS. StripSearch',fontsize = 14)\n",
        "race_SS_bar.set_xlabel('Race',fontsize = 14)\n",
        "race_SS_bar.set_ylabel('Probability of StripSearch',fontsize = 14)\n",
        "race_SS_bar.legend().remove()"
      ],
      "metadata": {
        "colab": {
          "base_uri": "https://localhost:8080/"
        },
        "id": "Ddlyr6I7ntZh",
        "outputId": "5bf5815c-e4d2-4168-ca8d-470894090262"
      },
      "execution_count": null,
      "outputs": [
        {
          "output_type": "display_data",
          "data": {
            "text/plain": [
              "<Figure size 1000x600 with 1 Axes>"
            ],
            "image/png": "[encoded data removed]"
          },
          "metadata": {}
        }
      ]
    },
    {
      "cell_type": "markdown",
      "source": [
        "**Pivot Table for probability of StripSearch by SEX**"
      ],
      "metadata": {
        "id": "dFv5VVARnjXy"
      }
    },
    {
      "cell_type": "code",
      "source": [
        "pivot_Sex_SS = pd.pivot_table(df_cleaned,index ='Sex', values='StripSearch')\n",
        "pivot_Sex_SS"
      ],
      "metadata": {
        "colab": {
          "base_uri": "https://localhost:8080/"
        },
        "id": "dDcK5YHHnHK6",
        "outputId": "f76269e1-e338-4337-cd08-07bce508c37a"
      },
      "execution_count": null,
      "outputs": [
        {
          "output_type": "execute_result",
          "data": {
            "text/plain": [
              "     StripSearch\n",
              "Sex             \n",
              "F       0.101609\n",
              "M       0.125286"
            ],
            "text/html": [
              "\n",
              "  <div id=\"df-b8220776-d19e-4648-ae11-3e5a858a2437\">\n",
              "    <div class=\"colab-df-container\">\n",
              "      <div>\n",
              "<style scoped>\n",
              "    .dataframe tbody tr th:only-of-type {\n",
              "        vertical-align: middle;\n",
              "    }\n",
              "\n",
              "    .dataframe tbody tr th {\n",
              "        vertical-align: top;\n",
              "    }\n",
              "\n",
              "    .dataframe thead th {\n",
              "        text-align: right;\n",
              "    }\n",
              "</style>\n",
              "<table border=\"1\" class=\"dataframe\">\n",
              "  <thead>\n",
              "    <tr style=\"text-align: right;\">\n",
              "      <th></th>\n",
              "      <th>StripSearch</th>\n",
              "    </tr>\n",
              "    <tr>\n",
              "      <th>Sex</th>\n",
              "      <th></th>\n",
              "    </tr>\n",
              "  </thead>\n",
              "  <tbody>\n",
              "    <tr>\n",
              "      <th>F</th>\n",
              "      <td>0.101609</td>\n",
              "    </tr>\n",
              "    <tr>\n",
              "      <th>M</th>\n",
              "      <td>0.125286</td>\n",
              "    </tr>\n",
              "  </tbody>\n",
              "</table>\n",
              "</div>\n",
              "      <button class=\"colab-df-convert\" onclick=\"convertToInteractive('df-b8220776-d19e-4648-ae11-3e5a858a2437')\"\n",
              "              title=\"Convert this dataframe to an interactive table.\"\n",
              "              style=\"display:none;\">\n",
              "        \n",
              "  <svg xmlns=\"http://www.w3.org/2000/svg\" height=\"24px\"viewBox=\"0 0 24 24\"\n",
              "       width=\"24px\">\n",
              "    <path d=\"M0 0h24v24H0V0z\" fill=\"none\"/>\n",
              "    <path d=\"M18.56 5.44l.94 2.06.94-2.06 2.06-.94-2.06-.94-.94-2.06-.94 2.06-2.06.94zm-11 1L8.5 8.5l.94-2.06 2.06-.94-2.06-.94L8.5 2.5l-.94 2.06-2.06.94zm10 10l.94 2.06.94-2.06 2.06-.94-2.06-.94-.94-2.06-.94 2.06-2.06.94z\"/><path d=\"M17.41 7.96l-1.37-1.37c-.4-.4-.92-.59-1.43-.59-.52 0-1.04.2-1.43.59L10.3 9.45l-7.72 7.72c-.78.78-.78 2.05 0 2.83L4 21.41c.39.39.9.59 1.41.59.51 0 1.02-.2 1.41-.59l7.78-7.78 2.81-2.81c.8-.78.8-2.07 0-2.86zM5.41 20L4 18.59l7.72-7.72 1.47 1.35L5.41 20z\"/>\n",
              "  </svg>\n",
              "      </button>\n",
              "      \n",
              "  <style>\n",
              "    .colab-df-container {\n",
              "      display:flex;\n",
              "      flex-wrap:wrap;\n",
              "      gap: 12px;\n",
              "    }\n",
              "\n",
              "    .colab-df-convert {\n",
              "      background-color: #E8F0FE;\n",
              "      border: none;\n",
              "      border-radius: 50%;\n",
              "      cursor: pointer;\n",
              "      display: none;\n",
              "      fill: #1967D2;\n",
              "      height: 32px;\n",
              "      padding: 0 0 0 0;\n",
              "      width: 32px;\n",
              "    }\n",
              "\n",
              "    .colab-df-convert:hover {\n",
              "      background-color: #E2EBFA;\n",
              "      box-shadow: 0px 1px 2px rgba(60, 64, 67, 0.3), 0px 1px 3px 1px rgba(60, 64, 67, 0.15);\n",
              "      fill: #174EA6;\n",
              "    }\n",
              "\n",
              "    [theme=dark] .colab-df-convert {\n",
              "      background-color: #3B4455;\n",
              "      fill: #D2E3FC;\n",
              "    }\n",
              "\n",
              "    [theme=dark] .colab-df-convert:hover {\n",
              "      background-color: #434B5C;\n",
              "      box-shadow: 0px 1px 3px 1px rgba(0, 0, 0, 0.15);\n",
              "      filter: drop-shadow(0px 1px 2px rgba(0, 0, 0, 0.3));\n",
              "      fill: #FFFFFF;\n",
              "    }\n",
              "  </style>\n",
              "\n",
              "      <script>\n",
              "        const buttonEl =\n",
              "          document.querySelector('#df-b8220776-d19e-4648-ae11-3e5a858a2437 button.colab-df-convert');\n",
              "        buttonEl.style.display =\n",
              "          google.colab.kernel.accessAllowed ? 'block' : 'none';\n",
              "\n",
              "        async function convertToInteractive(key) {\n",
              "          const element = document.querySelector('#df-b8220776-d19e-4648-ae11-3e5a858a2437');\n",
              "          const dataTable =\n",
              "            await google.colab.kernel.invokeFunction('convertToInteractive',\n",
              "                                                     [key], {});\n",
              "          if (!dataTable) return;\n",
              "\n",
              "          const docLinkHtml = 'Like what you see? Visit the ' +\n",
              "            '<a target=\"_blank\" href=https://colab.research.google.com/notebooks/data_table.ipynb>data table notebook</a>'\n",
              "            + ' to learn more about interactive tables.';\n",
              "          element.innerHTML = '';\n",
              "          dataTable['output_type'] = 'display_data';\n",
              "          await google.colab.output.renderOutput(dataTable, element);\n",
              "          const docLink = document.createElement('div');\n",
              "          docLink.innerHTML = docLinkHtml;\n",
              "          element.appendChild(docLink);\n",
              "        }\n",
              "      </script>\n",
              "    </div>\n",
              "  </div>\n",
              "  "
            ]
          },
          "metadata": {},
          "execution_count": 10
        }
      ]
    },
    {
      "cell_type": "markdown",
      "source": [
        "**Pivot Table for probability of StripSearch by Age**"
      ],
      "metadata": {
        "id": "suQe4nG2oErD"
      }
    },
    {
      "cell_type": "code",
      "source": [
        "pivot_Age_SS = pd.pivot_table(df_cleaned,index ='Age_Group', values='StripSearch')\n",
        "pivot_Age_SS"
      ],
      "metadata": {
        "colab": {
          "base_uri": "https://localhost:8080/"
        },
        "id": "Lp0LQcxinHSw",
        "outputId": "44abd3a4-85d7-49cb-fa22-cb3075f7de46"
      },
      "execution_count": null,
      "outputs": [
        {
          "output_type": "execute_result",
          "data": {
            "text/plain": [
              "           StripSearch\n",
              "Age_Group             \n",
              "17            0.091681\n",
              "21            0.135577\n",
              "30            0.132701\n",
              "40            0.130781\n",
              "50            0.101489\n",
              "60            0.081893\n",
              "65            0.027228"
            ],
            "text/html": [
              "\n",
              "  <div id=\"df-2bf1641a-a252-46d9-8651-a8048fe80d3b\">\n",
              "    <div class=\"colab-df-container\">\n",
              "      <div>\n",
              "<style scoped>\n",
              "    .dataframe tbody tr th:only-of-type {\n",
              "        vertical-align: middle;\n",
              "    }\n",
              "\n",
              "    .dataframe tbody tr th {\n",
              "        vertical-align: top;\n",
              "    }\n",
              "\n",
              "    .dataframe thead th {\n",
              "        text-align: right;\n",
              "    }\n",
              "</style>\n",
              "<table border=\"1\" class=\"dataframe\">\n",
              "  <thead>\n",
              "    <tr style=\"text-align: right;\">\n",
              "      <th></th>\n",
              "      <th>StripSearch</th>\n",
              "    </tr>\n",
              "    <tr>\n",
              "      <th>Age_Group</th>\n",
              "      <th></th>\n",
              "    </tr>\n",
              "  </thead>\n",
              "  <tbody>\n",
              "    <tr>\n",
              "      <th>17</th>\n",
              "      <td>0.091681</td>\n",
              "    </tr>\n",
              "    <tr>\n",
              "      <th>21</th>\n",
              "      <td>0.135577</td>\n",
              "    </tr>\n",
              "    <tr>\n",
              "      <th>30</th>\n",
              "      <td>0.132701</td>\n",
              "    </tr>\n",
              "    <tr>\n",
              "      <th>40</th>\n",
              "      <td>0.130781</td>\n",
              "    </tr>\n",
              "    <tr>\n",
              "      <th>50</th>\n",
              "      <td>0.101489</td>\n",
              "    </tr>\n",
              "    <tr>\n",
              "      <th>60</th>\n",
              "      <td>0.081893</td>\n",
              "    </tr>\n",
              "    <tr>\n",
              "      <th>65</th>\n",
              "      <td>0.027228</td>\n",
              "    </tr>\n",
              "  </tbody>\n",
              "</table>\n",
              "</div>\n",
              "      <button class=\"colab-df-convert\" onclick=\"convertToInteractive('df-2bf1641a-a252-46d9-8651-a8048fe80d3b')\"\n",
              "              title=\"Convert this dataframe to an interactive table.\"\n",
              "              style=\"display:none;\">\n",
              "        \n",
              "  <svg xmlns=\"http://www.w3.org/2000/svg\" height=\"24px\"viewBox=\"0 0 24 24\"\n",
              "       width=\"24px\">\n",
              "    <path d=\"M0 0h24v24H0V0z\" fill=\"none\"/>\n",
              "    <path d=\"M18.56 5.44l.94 2.06.94-2.06 2.06-.94-2.06-.94-.94-2.06-.94 2.06-2.06.94zm-11 1L8.5 8.5l.94-2.06 2.06-.94-2.06-.94L8.5 2.5l-.94 2.06-2.06.94zm10 10l.94 2.06.94-2.06 2.06-.94-2.06-.94-.94-2.06-.94 2.06-2.06.94z\"/><path d=\"M17.41 7.96l-1.37-1.37c-.4-.4-.92-.59-1.43-.59-.52 0-1.04.2-1.43.59L10.3 9.45l-7.72 7.72c-.78.78-.78 2.05 0 2.83L4 21.41c.39.39.9.59 1.41.59.51 0 1.02-.2 1.41-.59l7.78-7.78 2.81-2.81c.8-.78.8-2.07 0-2.86zM5.41 20L4 18.59l7.72-7.72 1.47 1.35L5.41 20z\"/>\n",
              "  </svg>\n",
              "      </button>\n",
              "      \n",
              "  <style>\n",
              "    .colab-df-container {\n",
              "      display:flex;\n",
              "      flex-wrap:wrap;\n",
              "      gap: 12px;\n",
              "    }\n",
              "\n",
              "    .colab-df-convert {\n",
              "      background-color: #E8F0FE;\n",
              "      border: none;\n",
              "      border-radius: 50%;\n",
              "      cursor: pointer;\n",
              "      display: none;\n",
              "      fill: #1967D2;\n",
              "      height: 32px;\n",
              "      padding: 0 0 0 0;\n",
              "      width: 32px;\n",
              "    }\n",
              "\n",
              "    .colab-df-convert:hover {\n",
              "      background-color: #E2EBFA;\n",
              "      box-shadow: 0px 1px 2px rgba(60, 64, 67, 0.3), 0px 1px 3px 1px rgba(60, 64, 67, 0.15);\n",
              "      fill: #174EA6;\n",
              "    }\n",
              "\n",
              "    [theme=dark] .colab-df-convert {\n",
              "      background-color: #3B4455;\n",
              "      fill: #D2E3FC;\n",
              "    }\n",
              "\n",
              "    [theme=dark] .colab-df-convert:hover {\n",
              "      background-color: #434B5C;\n",
              "      box-shadow: 0px 1px 3px 1px rgba(0, 0, 0, 0.15);\n",
              "      filter: drop-shadow(0px 1px 2px rgba(0, 0, 0, 0.3));\n",
              "      fill: #FFFFFF;\n",
              "    }\n",
              "  </style>\n",
              "\n",
              "      <script>\n",
              "        const buttonEl =\n",
              "          document.querySelector('#df-2bf1641a-a252-46d9-8651-a8048fe80d3b button.colab-df-convert');\n",
              "        buttonEl.style.display =\n",
              "          google.colab.kernel.accessAllowed ? 'block' : 'none';\n",
              "\n",
              "        async function convertToInteractive(key) {\n",
              "          const element = document.querySelector('#df-2bf1641a-a252-46d9-8651-a8048fe80d3b');\n",
              "          const dataTable =\n",
              "            await google.colab.kernel.invokeFunction('convertToInteractive',\n",
              "                                                     [key], {});\n",
              "          if (!dataTable) return;\n",
              "\n",
              "          const docLinkHtml = 'Like what you see? Visit the ' +\n",
              "            '<a target=\"_blank\" href=https://colab.research.google.com/notebooks/data_table.ipynb>data table notebook</a>'\n",
              "            + ' to learn more about interactive tables.';\n",
              "          element.innerHTML = '';\n",
              "          dataTable['output_type'] = 'display_data';\n",
              "          await google.colab.output.renderOutput(dataTable, element);\n",
              "          const docLink = document.createElement('div');\n",
              "          docLink.innerHTML = docLinkHtml;\n",
              "          element.appendChild(docLink);\n",
              "        }\n",
              "      </script>\n",
              "    </div>\n",
              "  </div>\n",
              "  "
            ]
          },
          "metadata": {},
          "execution_count": 11
        }
      ]
    },
    {
      "cell_type": "markdown",
      "source": [
        "**BOX PLOT race, searchreason, sex**"
      ],
      "metadata": {
        "id": "9EF3H3eOoluX"
      }
    },
    {
      "cell_type": "code",
      "source": [
        "import seaborn as sns\n",
        "#for stripsearched individual\n",
        "df_cleaned_SS = df_cleaned.loc[df_cleaned['StripSearch'].isin([1])]\n",
        "sns.catplot(data=df_cleaned_SS, kind=\"box\", x=\"Race\", y=\"Total_SearchReason\", hue=\"Sex\",height=6, aspect=2)"
      ],
      "metadata": {
        "colab": {
          "base_uri": "https://localhost:8080/"
        },
        "id": "Zp-AmUb2nHU4",
        "outputId": "7b68fe81-3644-4cf0-9736-8cdf384b742d"
      },
      "execution_count": null,
      "outputs": [
        {
          "output_type": "execute_result",
          "data": {
            "text/plain": [
              "<seaborn.axisgrid.FacetGrid at 0x7f652d308070>"
            ]
          },
          "metadata": {},
          "execution_count": 12
        },
        {
          "output_type": "display_data",
          "data": {
            "text/plain": [
              "<Figure size 1262x600 with 1 Axes>"
            ],
            "image/png": "[encoded data removed]"
          },
          "metadata": {}
        }
      ]
    },
    {
      "cell_type": "markdown",
      "source": [
        "BOX PLOT Age, searchreason, sex"
      ],
      "metadata": {
        "id": "bp8Uh7rbosT_"
      }
    },
    {
      "cell_type": "code",
      "source": [
        "#for stripsearched individual\n",
        "sns.catplot(data=df_cleaned_SS, kind=\"box\", x=\"Age_Group\", y=\"Total_SearchReason\", hue=\"Sex\",height=6, aspect=2)"
      ],
      "metadata": {
        "colab": {
          "base_uri": "https://localhost:8080/"
        },
        "id": "mmgCmJ8mnHW-",
        "outputId": "0f446562-5b1a-43f8-996d-8cfba7121f85"
      },
      "execution_count": null,
      "outputs": [
        {
          "output_type": "execute_result",
          "data": {
            "text/plain": [
              "<seaborn.axisgrid.FacetGrid at 0x7f652d0b2d30>"
            ]
          },
          "metadata": {},
          "execution_count": 13
        },
        {
          "output_type": "display_data",
          "data": {
            "text/plain": [
              "<Figure size 1262x600 with 1 Axes>"
            ],
            "image/png": "[encoded data removed]"
          },
          "metadata": {}
        }
      ]
    },
    {
      "cell_type": "markdown",
      "source": [
        "**chi-square for race and StripSearch**"
      ],
      "metadata": {
        "id": "zv4Y7K8zo35r"
      }
    },
    {
      "cell_type": "code",
      "source": [
        "from scipy.stats import chi2_contingency\n",
        "# create a contingency table\n",
        "table = pd.crosstab(df_cleaned['StripSearch'], df_cleaned['Race'])\n",
        "\n",
        "# perform the chi-square test\n",
        "stat, p, dof, expected = chi2_contingency(table)\n",
        "\n",
        "\n",
        "# print the results\n",
        "print('Chi-square test statistic:', stat)\n",
        "print('p-value:', p)\n",
        "print('Degrees of freedom:', dof)\n",
        "print('Expected frequencies:', expected)"
      ],
      "metadata": {
        "colab": {
          "base_uri": "https://localhost:8080/"
        },
        "id": "O37-GEbRo3Gm",
        "outputId": "af14386b-b030-4e00-91f6-ebf56aab24cf"
      },
      "execution_count": null,
      "outputs": [
        {
          "output_type": "stream",
          "name": "stdout",
          "text": [
            "Chi-square test statistic: 371.78137715055516\n",
            "p-value: 3.2423319878332747e-77\n",
            "Degrees of freedom: 6\n",
            "Expected frequencies: [[15403.74356589  3879.51344975  1698.82592586  1553.73986077\n",
            "   2846.32480436  3176.94517088 24363.90722249]\n",
            " [ 2114.25643411   532.48655025   233.17407414   213.26013923\n",
            "    390.67519564   436.05482912  3344.09277751]]\n"
          ]
        }
      ]
    },
    {
      "cell_type": "markdown",
      "source": [
        "**chi-square for Sex and StripSearch**"
      ],
      "metadata": {
        "id": "fw7iPakGo_Km"
      }
    },
    {
      "cell_type": "code",
      "source": [
        "from scipy.stats import chi2_contingency\n",
        "# create a contingency table\n",
        "table_SSS = pd.crosstab(df_cleaned['StripSearch'], df_cleaned['Sex'])\n",
        "\n",
        "# perform the chi-square test\n",
        "stat, p, dof, expected = chi2_contingency(table_SSS)\n",
        "\n",
        "\n",
        "# print the results\n",
        "print('Chi-square test statistic:', stat)\n",
        "print('p-value:', p)\n",
        "print('Degrees of freedom:', dof)\n",
        "print('Expected frequencies:', expected)"
      ],
      "metadata": {
        "colab": {
          "base_uri": "https://localhost:8080/"
        },
        "id": "w4ydQfTCo3Ec",
        "outputId": "eb2abab2-256e-4d3d-eb1b-75700d372c6d"
      },
      "execution_count": null,
      "outputs": [
        {
          "output_type": "stream",
          "name": "stdout",
          "text": [
            "Chi-square test statistic: 49.5084575578152\n",
            "p-value: 1.9751837256274486e-12\n",
            "Degrees of freedom: 1\n",
            "Expected frequencies: [[10272.09340888 42650.90659112]\n",
            " [ 1409.90659112  5854.09340888]]\n"
          ]
        }
      ]
    },
    {
      "cell_type": "markdown",
      "source": [
        "**chi-square for Age and StripSearch**"
      ],
      "metadata": {
        "id": "ikkrsf_VppDH"
      }
    },
    {
      "cell_type": "code",
      "source": [
        "# create a contingency table\n",
        "table_AS = pd.crosstab(df_cleaned['StripSearch'], df_cleaned['Age_Group'])\n",
        "\n",
        "# perform the chi-square test\n",
        "stat, p, dof, expected = chi2_contingency(table_AS)\n",
        "\n",
        "\n",
        "# print the results\n",
        "print('Chi-square test statistic:', stat)\n",
        "print('p-value:', p)\n",
        "print('Degrees of freedom:', dof)\n",
        "print('Expected frequencies:', expected)"
      ],
      "metadata": {
        "colab": {
          "base_uri": "https://localhost:8080/"
        },
        "id": "uCvJEic6o266",
        "outputId": "b3091a3d-9ee5-477a-c412-7eeb4cd5c13e"
      },
      "execution_count": null,
      "outputs": [
        {
          "output_type": "stream",
          "name": "stdout",
          "text": [
            "Chi-square test statistic: 271.1013501772278\n",
            "p-value: 1.2608713861164803e-55\n",
            "Degrees of freedom: 6\n",
            "Expected frequencies: [[ 2484.04929636  8074.69900477 16969.79375945 13231.84913686\n",
            "   7381.80313024  3715.08257597  1065.72309635]\n",
            " [  340.95070364  1108.30099523  2329.20624055  1816.15086314\n",
            "   1013.19686976   509.91742403   146.27690365]]\n"
          ]
        }
      ]
    },
    {
      "cell_type": "markdown",
      "source": [
        "**t test Race vs SearchReason for people who strip searched**"
      ],
      "metadata": {
        "id": "348IKVVVrQI5"
      }
    },
    {
      "cell_type": "code",
      "source": [
        "# levene to test whether have same population variance\n",
        "from scipy.stats import levene\n",
        "\n",
        "# data for two groups\n",
        "white_data = df_cleaned_SS[df_cleaned_SS['Race']=='White']\n",
        "black_data = df_cleaned_SS[df_cleaned_SS['Race']=='Black']\n",
        "white = white_data['Total_SearchReason']\n",
        "black = black_data['Total_SearchReason']\n",
        "# conduct Levene's test\n",
        "stat, pvalue = levene(white, black)\n",
        "\n",
        "# print the test statistic and p-value\n",
        "print('levene Test statistic:', stat)\n",
        "print('levene P-value:', pvalue)\n",
        "\n",
        "#CI for race vs total search reason\n",
        "from scipy.stats import ttest_ind\n",
        "\n",
        "#calculate the t-statistic and p-value\n",
        "t_p = ttest_ind(white,black)\n",
        "print('Ttest results for # of reasons for strip searching White and Black arrestees:',t_p)\n",
        "\n",
        "#degrees of freedom\n",
        "df = len(white) + len(black) - 2\n",
        "\n",
        "#calculate the confidence interval for the difference in means\n",
        "mean_difference = np.mean(white) - np.mean(black)\n",
        "sd_difference = np.sqrt((np.var(white) / len(white)) + (np.var(black) / len(black)))\n",
        "#95% CI\n",
        "margin_error = 1.96 * sd_difference \n",
        "CI_RR = (mean_difference - margin_error, mean_difference + margin_error)\n",
        "\n",
        "# print the results\n",
        "print(\"degrees of freedom: \", df)\n",
        "print(\"Mean of total number of reasons for the White arrestees: \", np.mean(white))\n",
        "print(\"Mean of total number of reasons for the Black arrestees: \", np.mean(black))\n",
        "print(\"Standard deviation of total number of reasons for the White arrestees: \", np.std(white))\n",
        "print(\"Standard deviation of total number of reasons for the Black arrestees: \", np.std(black))\n",
        "print(\"confidence interval: \", CI_RR)"
      ],
      "metadata": {
        "colab": {
          "base_uri": "https://localhost:8080/"
        },
        "id": "o1J9i0d-o24v",
        "outputId": "680a2a27-7315-4fe6-bfda-cd27492055fa"
      },
      "execution_count": null,
      "outputs": [
        {
          "output_type": "stream",
          "name": "stdout",
          "text": [
            "levene Test statistic: 1.930249992122145\n",
            "levene P-value: 0.16478266968593444\n",
            "Ttest results for # of reasons for strip searching White and Black arrestees: Ttest_indResult(statistic=-2.0180774278207982, pvalue=0.04362763265896725)\n",
            "degrees of freedom:  5998\n",
            "Mean of total number of reasons for the White arrestees:  1.9649467190128995\n",
            "Mean of total number of reasons for the Black arrestees:  2.0291700903861956\n",
            "Standard deviation of total number of reasons for the White arrestees:  1.2127360152573845\n",
            "Standard deviation of total number of reasons for the Black arrestees:  1.206482239164465\n",
            "confidence interval:  (-0.1265272859404273, -0.001919456806164753)\n"
          ]
        }
      ]
    },
    {
      "cell_type": "markdown",
      "source": [
        "**t test Race vs Total actions at arrest for people who strip searched**"
      ],
      "metadata": {
        "id": "rlNAyaYkrrWx"
      }
    },
    {
      "cell_type": "code",
      "source": [
        "# data for two groups\n",
        "white_data_1 = df_cleaned_SS[df_cleaned_SS['Race']=='White']\n",
        "black_data_1 = df_cleaned_SS[df_cleaned_SS['Race']=='Black']\n",
        "white_1 = white_data_1['Total_Actions']\n",
        "black_1 = black_data_1['Total_Actions']\n",
        "\n",
        "# levene to test whether have same population variance\n",
        "from scipy.stats import levene\n",
        "\n",
        "\n",
        "# conduct Levene's test\n",
        "stat, pvalue = levene(white_1, black_1)\n",
        "\n",
        "# print the test statistic and p-value\n",
        "print('Levene Test statistic:', stat)\n",
        "print('Levene test P-value:', pvalue)\n",
        "\n",
        "\n",
        "\n",
        "#since population variance might uneuqal, so use weltch t test\n",
        "#degree of freedom\n",
        "def welch_dof(x, y): \n",
        "    '''\n",
        "    Takes in final grades for binary features\n",
        "    Returns degrees of freedom \n",
        "    '''\n",
        "    dof = (x.var()/x.size + y.var()/y.size)**2 / ((x.var()/x.size)**2 / (x.size-1) + (y.var()/y.size)**2 / (y.size-1))\n",
        "    return dof\n",
        "print('degree of freedom:',welch_dof(white_1,black_1))\n",
        "\n",
        "#weltch t test\n",
        "t_p_action = stats.ttest_ind(white_1, black_1, equal_var=False)\n",
        "print('Ttest results for # of actions the White and Black who are strip searched :',t_p_action) \n",
        "\n",
        "# mean and sd\n",
        "print('Mean of total number of actions for White and Black who are strip searched:',white_1.mean(), black_1.mean())\n",
        "print('Standard deviation of total number of actions for white and black who are strip searched :',white_1.std(), black_1.std())\n",
        "\n",
        "#Confidence interval\n",
        "import statsmodels.stats.api as sms\n",
        "CI_action = sms.CompareMeans(sms.DescrStatsW(white_1), sms.DescrStatsW(black_1))\n",
        "print('Confidence interval :',CI_action.tconfint_diff(usevar='unequal'))"
      ],
      "metadata": {
        "colab": {
          "base_uri": "https://localhost:8080/"
        },
        "id": "9tiJErXIo22f",
        "outputId": "ababc3ff-9aca-4682-cf7d-3d39f2872efa"
      },
      "execution_count": null,
      "outputs": [
        {
          "output_type": "stream",
          "name": "stdout",
          "text": [
            "Levene Test statistic: 19.53306036861891\n",
            "Levene test P-value: 1.0061556389580791e-05\n",
            "degree of freedom: 4762.8666557312845\n",
            "Ttest results for # of actions the White and Black who are strip searched : Ttest_indResult(statistic=-4.312218150819922, pvalue=1.6489231098716865e-05)\n",
            "Mean of total number of actions for White and Black who are strip searched: 0.23022994952327538 0.3011503697617091\n",
            "Standard deviation of total number of actions for white and black who are strip searched : 0.5762920629149696 0.6570171291528663\n",
            "Confidence interval : (-0.10316294535720323, -0.03867789511966423)\n"
          ]
        }
      ]
    },
    {
      "cell_type": "markdown",
      "source": [
        "**t test Gender vs Total search reason for people who strip searched**"
      ],
      "metadata": {
        "id": "fHDj0BjTspOn"
      }
    },
    {
      "cell_type": "code",
      "source": [
        "female = df_cleaned_SS[df_cleaned_SS[\"Sex\"]==\"F\"]\n",
        "male = df_cleaned_SS[df_cleaned_SS[\"Sex\"]==\"M\"]\n",
        "# conduct Levene's test\n",
        "stat, pvalue = levene(female[\"Total_SearchReason\"], male[\"Total_SearchReason\"])\n",
        "\n",
        "# print the LEVENE test statistic and p-value\n",
        "print('levene Test statistic for variances:', stat)\n",
        "print('levene P-value for variances:', pvalue)\n",
        "\n",
        "\n",
        "print('Mean of total number of reasons for Females and Males who are strip searched:',female[\"Total_SearchReason\"].mean(), male[\"Total_SearchReason\"].mean())\n",
        "print('Standard deviation of total number of reasons for Females and Males who are strip searched :',female[\"Total_SearchReason\"].std(), male[\"Total_SearchReason\"].std())\n",
        "\n",
        "t_p = stats.ttest_ind(female['Total_SearchReason'], male[\"Total_SearchReason\"])\n",
        "print('Ttest results for # of reasons for strip searching female and male arrestees:',t_p)\n",
        "\n",
        "#Confidence interval\n",
        "import statsmodels.stats.api as sms\n",
        "CI_SS = sms.CompareMeans(sms.DescrStatsW(female[\"Total_SearchReason\"]), sms.DescrStatsW(male[\"Total_SearchReason\"]))\n",
        "print('Confidence interval :',CI_SS.tconfint_diff(usevar='pooled'))\n",
        "#dof\n",
        "dof_g_s = len(female[\"Total_SearchReason\"]) + len(male[\"Total_SearchReason\"]) - 2\n",
        "print('degree of freedom',dof_g_s)"
      ],
      "metadata": {
        "colab": {
          "base_uri": "https://localhost:8080/"
        },
        "id": "XkLK2AJzo20R",
        "outputId": "22fcc219-e397-40d0-fe25-e2f8739944ed"
      },
      "execution_count": null,
      "outputs": [
        {
          "output_type": "stream",
          "name": "stdout",
          "text": [
            "levene Test statistic for variances: 1.0154274425305339\n",
            "levene P-value for variances: 0.31363966752263855\n",
            "Mean of total number of reasons for Females and Males who are strip searched: 1.8711036225779276 2.0093796281059735\n",
            "Standard deviation of total number of reasons for Females and Males who are strip searched : 1.17996157590798 1.2116714445205097\n",
            "Ttest results for # of reasons for strip searching female and male arrestees: Ttest_indResult(statistic=-3.6114672766159983, pvalue=0.0003065241185617491)\n",
            "Confidence interval : (-0.21333169561286502, -0.06322031544322669)\n",
            "degree of freedom 7262\n"
          ]
        }
      ]
    },
    {
      "cell_type": "markdown",
      "source": [
        "**t test Gender vs Total Actions at arrest for people who strip searched**"
      ],
      "metadata": {
        "id": "BUrUphJStZDh"
      }
    },
    {
      "cell_type": "code",
      "source": [
        "female_1 = df_cleaned_SS[df_cleaned_SS[\"Sex\"]==\"F\"]\n",
        "male_1 = df_cleaned_SS[df_cleaned_SS[\"Sex\"]==\"M\"]\n",
        "\n",
        "# conduct Levene's test\n",
        "stat, pvalue = levene(female_1[\"Total_Actions\"], male_1[\"Total_Actions\"])\n",
        "\n",
        "# print the test statistic and p-value\n",
        "print('levene Test statistic for variances:', stat)\n",
        "print('levene P-value for variances:', pvalue)\n",
        "\n",
        "\n",
        "print('Mean of total number of actions for Females and Males who are strip searched:',female_1[\"Total_Actions\"].mean(), male_1[\"Total_Actions\"].mean())\n",
        "print('Standard deviation of total number of actions for Females and Males who are strip searched :',female_1[\"Total_Actions\"].std(), male_1[\"Total_Actions\"].std())\n",
        "\n",
        "t_p_1 = stats.ttest_ind(female_1['Total_Actions'], male_1[\"Total_Actions\"])\n",
        "print('Ttest results for # of actions for strip searching White and Black arrestees:',t_p_1)\n",
        "#Confidence interval\n",
        "import statsmodels.stats.api as sms\n",
        "CI_SA = sms.CompareMeans(sms.DescrStatsW(female_1[\"Total_Actions\"]), sms.DescrStatsW(male_1[\"Total_Actions\"]))\n",
        "print('Confidence interval :',CI_SA.tconfint_diff(usevar='pooled'))\n",
        "#dof\n",
        "dof_g_a = len(female_1[\"Total_Actions\"]) + len(male_1[\"Total_Actions\"]) - 2\n",
        "print('degree of freedom',dof_g_a)"
      ],
      "metadata": {
        "colab": {
          "base_uri": "https://localhost:8080/"
        },
        "id": "itHBsfQ5tpT5",
        "outputId": "360d337e-823b-4d0e-8bf6-08faffb7a4dd"
      },
      "execution_count": null,
      "outputs": [
        {
          "output_type": "stream",
          "name": "stdout",
          "text": [
            "levene Test statistic for variances: 0.6330922867703639\n",
            "levene P-value for variances: 0.42624931290143375\n",
            "Mean of total number of actions for Females and Males who are strip searched: 0.2443133951137321 0.25966759914431464\n",
            "Standard deviation of total number of actions for Females and Males who are strip searched : 0.5987262445107537 0.6099143207819518\n",
            "Ttest results for # of actions for strip searching White and Black arrestees: Ttest_indResult(statistic=-0.7956709663990285, pvalue=0.42624931290438584)\n",
            "Confidence interval : (-0.05318228215412965, 0.022473874092964558)\n",
            "degree of freedom 7262\n"
          ]
        }
      ]
    },
    {
      "cell_type": "code",
      "source": [],
      "metadata": {
        "id": "5Aotf5uMBpY2"
      },
      "execution_count": null,
      "outputs": []
    },
    {
      "cell_type": "markdown",
      "source": [
        "# **power analysis for one of the t-test: sex vs. total search resason.**"
      ],
      "metadata": {
        "id": "Z6LoDEOM0qEb"
      }
    },
    {
      "cell_type": "code",
      "source": [
        "from statsmodels.stats.power import TTestIndPower\n",
        "\n",
        "#code for Cohen's D \n",
        "\n",
        "#function to calculate the pooled standard deviation of 2 samples\n",
        "def pooled_standard_deviation(sample1,sample2):\n",
        "    #calculate the sample size\n",
        "    n1, n2 = len(sample1), len(sample2)\n",
        "    #calculate the variances\n",
        "    var1, var2 = np.var(sample1, ddof=1), np.var(sample2, ddof=1)\n",
        "    #calculate the pooled standard deviation\n",
        "    numerator = ((n1-1) * var1) + ((n2-1) * var2)\n",
        "    denominator = n1+n2-2\n",
        "    return np.sqrt(numerator/denominator)\n",
        "# function to calculate Cohen's d for independent samples\n",
        "\n",
        "def Cohens_d(sample1, sample2):\n",
        "    u1, u2 = np.mean(sample1), np.mean(sample2)\n",
        "    s_pooled = pooled_standard_deviation(sample1, sample2)\n",
        "    #print(s_pooled)\n",
        "    return ((u1 - u2) / s_pooled)"
      ],
      "metadata": {
        "id": "PcasXsXx1GKj"
      },
      "execution_count": null,
      "outputs": []
    },
    {
      "cell_type": "code",
      "source": [
        "# effective size\n",
        "effect_size = Cohens_d(white,black)\n",
        "alpha = 0.05\n",
        "power = 0.8\n",
        "ratio_ =len(white)/len(black) #NB: ratio = nobs2/nobs1\n",
        "print('Effect size (Cohen\\'s D) for Search reason based on race:',effect_size)\n",
        "\n",
        "#propsed sample size\n",
        "analysis = TTestIndPower()\n",
        "sample_size = analysis.solve_power(effect_size, power=power, nobs1=None, ratio=ratio_, alpha=alpha)\n",
        "print('Sample Size of nobs1: %.3f' % sample_size, 'needed for black') \n",
        "print('Actual size of black:', len(black))\n",
        "nobs2 =ratio_*sample_size\n",
        "print('Sample Size of nobs2: %.3f' % nobs2, 'needed for white')\n",
        "print('Actual size of white:', len(white))\n",
        "\n",
        "#power of the actual test\n",
        "from statsmodels.stats.power import TTestPower\n",
        "\n",
        "power = TTestPower()\n",
        "n_test = power.solve_power(nobs = 2434, effect_size = effect_size , power = None, alpha = 0.05)\n",
        "print('Power for actual sample size: {:.3f}'.format(n_test))"
      ],
      "metadata": {
        "colab": {
          "base_uri": "https://localhost:8080/"
        },
        "id": "aYedfG0V1SGn",
        "outputId": "025187d6-2173-45de-82ad-8caa2605a7ee"
      },
      "execution_count": null,
      "outputs": [
        {
          "output_type": "stream",
          "name": "stdout",
          "text": [
            "Effect size (Cohen's D) for Search reason based on race: -0.05305941943024864\n",
            "Sample Size of nobs1: 4691.629 needed for black\n",
            "Actual size of black: 2434\n",
            "Sample Size of nobs2: 6873.603 needed for white\n",
            "Actual size of white: 3566\n",
            "Power for actual sample size: 0.744\n"
          ]
        }
      ]
    },
    {
      "cell_type": "code",
      "source": [
        "effect_sizes = np.array([-0.05, 0.2, 0.8])\n",
        "total_sample_sizes = np.array(range(10,2000))\n",
        "\n",
        "# plot power curves\n",
        "analysis = TTestIndPower()\n",
        "analysis.plot_power(dep_var='nobs', nobs=total_sample_sizes, effect_size = effect_sizes,)\n",
        "\n",
        "plt.show()"
      ],
      "metadata": {
        "colab": {
          "base_uri": "https://localhost:8080/"
        },
        "id": "FYSQIjC-1gqw",
        "outputId": "3d80b82c-c142-4811-bea8-6991aa354340"
      },
      "execution_count": null,
      "outputs": [
        {
          "output_type": "stream",
          "name": "stderr",
          "text": [
            "/usr/local/lib/python3.9/dist-packages/scipy/stats/_continuous_distns.py:6832: RuntimeWarning: invalid value encountered in _nct_sf\n",
            "  return np.clip(_boost._nct_sf(x, df, nc), 0, 1)\n",
            "/usr/local/lib/python3.9/dist-packages/scipy/stats/_continuous_distns.py:6826: RuntimeWarning: invalid value encountered in _nct_cdf\n",
            "  return np.clip(_boost._nct_cdf(x, df, nc), 0, 1)\n"
          ]
        },
        {
          "output_type": "display_data",
          "data": {
            "text/plain": [
              "<Figure size 640x480 with 1 Axes>"
            ],
            "image/png": "[encoded data removed]"
          },
          "metadata": {}
        }
      ]
    },
    {
      "cell_type": "markdown",
      "source": [
        "# **power analysis to find proposed sample size of ANCOVA**"
      ],
      "metadata": {
        "id": "3Tm5XLR1tybc"
      }
    },
    {
      "cell_type": "code",
      "source": [
        "import statsmodels.stats.power as smp\n",
        "\n",
        "# Number of groups\n",
        "k = 2\n",
        "\n",
        "# Desired effect size (Cohen's f)\n",
        "f = 0.25\n",
        "\n",
        "# Desired power\n",
        "power = 0.8\n",
        "\n",
        "# Significance level (alpha)\n",
        "alpha = 0.05\n",
        "\n",
        "# Perform power analysis to find sample size\n",
        "anova_power = smp.FTestAnovaPower()\n",
        "sample_size = anova_power.solve_power(effect_size=f, nobs=None, alpha=alpha, power=power)\n",
        "\n",
        "print(\"Number of groups (k):\", k)\n",
        "print(\"Effect size (Cohen's f):\", f)\n",
        "print(\"Power:\", power)\n",
        "print(\"Significance level (alpha):\", alpha)\n",
        "print(\"Proposed sample size per group:\", round(sample_size))"
      ],
      "metadata": {
        "colab": {
          "base_uri": "https://localhost:8080/"
        },
        "id": "7D3yGrNVt9Zg",
        "outputId": "41abd9de-f6ae-49c9-a00b-7d9786dbd3a5"
      },
      "execution_count": null,
      "outputs": [
        {
          "output_type": "stream",
          "name": "stdout",
          "text": [
            "Number of groups (k): 2\n",
            "Effect size (Cohen's f): 0.25\n",
            "Power: 0.8\n",
            "Significance level (alpha): 0.05\n",
            "Proposed sample size per group: 128\n"
          ]
        }
      ]
    },
    {
      "cell_type": "markdown",
      "source": [
        "# **ANCOVA**"
      ],
      "metadata": {
        "id": "J6VTJf8Otkky"
      }
    },
    {
      "cell_type": "markdown",
      "source": [
        "**Ancova- total search reason vs. gender when control age**\n",
        "\n",
        "\n"
      ],
      "metadata": {
        "id": "etLkDJqTyIJl"
      }
    },
    {
      "cell_type": "code",
      "source": [
        "!pip install pingouin\n",
        "from pingouin import ancova\n",
        "ancova(data=df_cleaned_SS, dv='Total_SearchReason', covar='Age_Group', between='Sex')"
      ],
      "metadata": {
        "id": "iGZfoC8zo2wH",
        "colab": {
          "base_uri": "https://localhost:8080/"
        },
        "outputId": "65dbf18d-f6ee-4f0d-9668-b487f4483248"
      },
      "execution_count": null,
      "outputs": [
        {
          "output_type": "stream",
          "name": "stdout",
          "text": [
            "Looking in indexes: https://pypi.org/simple, https://us-python.pkg.dev/colab-wheels/public/simple/\n",
            "Collecting pingouin\n",
            "  Downloading pingouin-0.5.3-py3-none-any.whl (198 kB)\n",
            "\u001b[2K     \u001b[90m━━━━━━━━━━━━━━━━━━━━━━━━━━━━━━━━━━━━━━━\u001b[0m \u001b[32m198.6/198.6 kB\u001b[0m \u001b[31m3.6 MB/s\u001b[0m eta \u001b[36m0:00:00\u001b[0m\n",
            "\u001b[?25hRequirement already satisfied: scipy>=1.7 in /usr/local/lib/python3.9/dist-packages (from pingouin) (1.10.1)\n",
            "Requirement already satisfied: scikit-learn in /usr/local/lib/python3.9/dist-packages (from pingouin) (1.2.2)\n",
            "Collecting pandas-flavor>=0.2.0\n",
            "  Downloading pandas_flavor-0.5.0-py3-none-any.whl (7.1 kB)\n",
            "Requirement already satisfied: numpy>=1.19 in /usr/local/lib/python3.9/dist-packages (from pingouin) (1.22.4)\n",
            "Requirement already satisfied: pandas>=1.0 in /usr/local/lib/python3.9/dist-packages (from pingouin) (1.5.3)\n",
            "Requirement already satisfied: tabulate in /usr/local/lib/python3.9/dist-packages (from pingouin) (0.8.10)\n",
            "Requirement already satisfied: seaborn>=0.11 in /usr/local/lib/python3.9/dist-packages (from pingouin) (0.12.2)\n",
            "Requirement already satisfied: matplotlib>=3.0.2 in /usr/local/lib/python3.9/dist-packages (from pingouin) (3.7.1)\n",
            "Requirement already satisfied: statsmodels>=0.13 in /usr/local/lib/python3.9/dist-packages (from pingouin) (0.13.5)\n",
            "Collecting outdated\n",
            "  Downloading outdated-0.2.2-py2.py3-none-any.whl (7.5 kB)\n",
            "Requirement already satisfied: kiwisolver>=1.0.1 in /usr/local/lib/python3.9/dist-packages (from matplotlib>=3.0.2->pingouin) (1.4.4)\n",
            "Requirement already satisfied: python-dateutil>=2.7 in /usr/local/lib/python3.9/dist-packages (from matplotlib>=3.0.2->pingouin) (2.8.2)\n",
            "Requirement already satisfied: importlib-resources>=3.2.0 in /usr/local/lib/python3.9/dist-packages (from matplotlib>=3.0.2->pingouin) (5.12.0)\n",
            "Requirement already satisfied: cycler>=0.10 in /usr/local/lib/python3.9/dist-packages (from matplotlib>=3.0.2->pingouin) (0.11.0)\n",
            "Requirement already satisfied: pillow>=6.2.0 in /usr/local/lib/python3.9/dist-packages (from matplotlib>=3.0.2->pingouin) (8.4.0)\n",
            "Requirement already satisfied: pyparsing>=2.3.1 in /usr/local/lib/python3.9/dist-packages (from matplotlib>=3.0.2->pingouin) (3.0.9)\n",
            "Requirement already satisfied: fonttools>=4.22.0 in /usr/local/lib/python3.9/dist-packages (from matplotlib>=3.0.2->pingouin) (4.39.3)\n",
            "Requirement already satisfied: contourpy>=1.0.1 in /usr/local/lib/python3.9/dist-packages (from matplotlib>=3.0.2->pingouin) (1.0.7)\n",
            "Requirement already satisfied: packaging>=20.0 in /usr/local/lib/python3.9/dist-packages (from matplotlib>=3.0.2->pingouin) (23.0)\n",
            "Requirement already satisfied: pytz>=2020.1 in /usr/local/lib/python3.9/dist-packages (from pandas>=1.0->pingouin) (2022.7.1)\n",
            "Requirement already satisfied: xarray in /usr/local/lib/python3.9/dist-packages (from pandas-flavor>=0.2.0->pingouin) (2022.12.0)\n",
            "Requirement already satisfied: lazy-loader>=0.1 in /usr/local/lib/python3.9/dist-packages (from pandas-flavor>=0.2.0->pingouin) (0.2)\n",
            "Requirement already satisfied: patsy>=0.5.2 in /usr/local/lib/python3.9/dist-packages (from statsmodels>=0.13->pingouin) (0.5.3)\n",
            "Collecting littleutils\n",
            "  Downloading littleutils-0.2.2.tar.gz (6.6 kB)\n",
            "  Preparing metadata (setup.py) ... \u001b[?25l\u001b[?25hdone\n",
            "Requirement already satisfied: setuptools>=44 in /usr/local/lib/python3.9/dist-packages (from outdated->pingouin) (67.6.1)\n",
            "Requirement already satisfied: requests in /usr/local/lib/python3.9/dist-packages (from outdated->pingouin) (2.27.1)\n",
            "Requirement already satisfied: threadpoolctl>=2.0.0 in /usr/local/lib/python3.9/dist-packages (from scikit-learn->pingouin) (3.1.0)\n",
            "Requirement already satisfied: joblib>=1.1.1 in /usr/local/lib/python3.9/dist-packages (from scikit-learn->pingouin) (1.2.0)\n",
            "Requirement already satisfied: zipp>=3.1.0 in /usr/local/lib/python3.9/dist-packages (from importlib-resources>=3.2.0->matplotlib>=3.0.2->pingouin) (3.15.0)\n",
            "Requirement already satisfied: six in /usr/local/lib/python3.9/dist-packages (from patsy>=0.5.2->statsmodels>=0.13->pingouin) (1.16.0)\n",
            "Requirement already satisfied: certifi>=2017.4.17 in /usr/local/lib/python3.9/dist-packages (from requests->outdated->pingouin) (2022.12.7)\n",
            "Requirement already satisfied: charset-normalizer~=2.0.0 in /usr/local/lib/python3.9/dist-packages (from requests->outdated->pingouin) (2.0.12)\n",
            "Requirement already satisfied: urllib3<1.27,>=1.21.1 in /usr/local/lib/python3.9/dist-packages (from requests->outdated->pingouin) (1.26.15)\n",
            "Requirement already satisfied: idna<4,>=2.5 in /usr/local/lib/python3.9/dist-packages (from requests->outdated->pingouin) (3.4)\n",
            "Building wheels for collected packages: littleutils\n",
            "  Building wheel for littleutils (setup.py) ... \u001b[?25l\u001b[?25hdone\n",
            "  Created wheel for littleutils: filename=littleutils-0.2.2-py3-none-any.whl size=7048 sha256=c28915002b67eaee0f50538e0b4cf6c7a42917a9a30c55b4b9d19e915bea2459\n",
            "  Stored in directory: /root/.cache/pip/wheels/04/bb/0d/2d02ec45f29c48d6192476bfb59c5a0e64b605e7212374dd15\n",
            "Successfully built littleutils\n",
            "Installing collected packages: littleutils, outdated, pandas-flavor, pingouin\n",
            "Successfully installed littleutils-0.2.2 outdated-0.2.2 pandas-flavor-0.5.0 pingouin-0.5.3\n"
          ]
        },
        {
          "output_type": "execute_result",
          "data": {
            "text/plain": [
              "      Source            SS    DF          F     p-unc       np2\n",
              "0        Sex     20.459487     1  14.095284  0.000175  0.001937\n",
              "1  Age_Group     32.308600     1  22.258568  0.000002  0.003056\n",
              "2   Residual  10539.435615  7261        NaN       NaN       NaN"
            ],
            "text/html": [
              "\n",
              "  <div id=\"df-18320af9-95ae-43d5-97af-f88eba152c02\">\n",
              "    <div class=\"colab-df-container\">\n",
              "      <div>\n",
              "<style scoped>\n",
              "    .dataframe tbody tr th:only-of-type {\n",
              "        vertical-align: middle;\n",
              "    }\n",
              "\n",
              "    .dataframe tbody tr th {\n",
              "        vertical-align: top;\n",
              "    }\n",
              "\n",
              "    .dataframe thead th {\n",
              "        text-align: right;\n",
              "    }\n",
              "</style>\n",
              "<table border=\"1\" class=\"dataframe\">\n",
              "  <thead>\n",
              "    <tr style=\"text-align: right;\">\n",
              "      <th></th>\n",
              "      <th>Source</th>\n",
              "      <th>SS</th>\n",
              "      <th>DF</th>\n",
              "      <th>F</th>\n",
              "      <th>p-unc</th>\n",
              "      <th>np2</th>\n",
              "    </tr>\n",
              "  </thead>\n",
              "  <tbody>\n",
              "    <tr>\n",
              "      <th>0</th>\n",
              "      <td>Sex</td>\n",
              "      <td>20.459487</td>\n",
              "      <td>1</td>\n",
              "      <td>14.095284</td>\n",
              "      <td>0.000175</td>\n",
              "      <td>0.001937</td>\n",
              "    </tr>\n",
              "    <tr>\n",
              "      <th>1</th>\n",
              "      <td>Age_Group</td>\n",
              "      <td>32.308600</td>\n",
              "      <td>1</td>\n",
              "      <td>22.258568</td>\n",
              "      <td>0.000002</td>\n",
              "      <td>0.003056</td>\n",
              "    </tr>\n",
              "    <tr>\n",
              "      <th>2</th>\n",
              "      <td>Residual</td>\n",
              "      <td>10539.435615</td>\n",
              "      <td>7261</td>\n",
              "      <td>NaN</td>\n",
              "      <td>NaN</td>\n",
              "      <td>NaN</td>\n",
              "    </tr>\n",
              "  </tbody>\n",
              "</table>\n",
              "</div>\n",
              "      <button class=\"colab-df-convert\" onclick=\"convertToInteractive('df-18320af9-95ae-43d5-97af-f88eba152c02')\"\n",
              "              title=\"Convert this dataframe to an interactive table.\"\n",
              "              style=\"display:none;\">\n",
              "        \n",
              "  <svg xmlns=\"http://www.w3.org/2000/svg\" height=\"24px\"viewBox=\"0 0 24 24\"\n",
              "       width=\"24px\">\n",
              "    <path d=\"M0 0h24v24H0V0z\" fill=\"none\"/>\n",
              "    <path d=\"M18.56 5.44l.94 2.06.94-2.06 2.06-.94-2.06-.94-.94-2.06-.94 2.06-2.06.94zm-11 1L8.5 8.5l.94-2.06 2.06-.94-2.06-.94L8.5 2.5l-.94 2.06-2.06.94zm10 10l.94 2.06.94-2.06 2.06-.94-2.06-.94-.94-2.06-.94 2.06-2.06.94z\"/><path d=\"M17.41 7.96l-1.37-1.37c-.4-.4-.92-.59-1.43-.59-.52 0-1.04.2-1.43.59L10.3 9.45l-7.72 7.72c-.78.78-.78 2.05 0 2.83L4 21.41c.39.39.9.59 1.41.59.51 0 1.02-.2 1.41-.59l7.78-7.78 2.81-2.81c.8-.78.8-2.07 0-2.86zM5.41 20L4 18.59l7.72-7.72 1.47 1.35L5.41 20z\"/>\n",
              "  </svg>\n",
              "      </button>\n",
              "      \n",
              "  <style>\n",
              "    .colab-df-container {\n",
              "      display:flex;\n",
              "      flex-wrap:wrap;\n",
              "      gap: 12px;\n",
              "    }\n",
              "\n",
              "    .colab-df-convert {\n",
              "      background-color: #E8F0FE;\n",
              "      border: none;\n",
              "      border-radius: 50%;\n",
              "      cursor: pointer;\n",
              "      display: none;\n",
              "      fill: #1967D2;\n",
              "      height: 32px;\n",
              "      padding: 0 0 0 0;\n",
              "      width: 32px;\n",
              "    }\n",
              "\n",
              "    .colab-df-convert:hover {\n",
              "      background-color: #E2EBFA;\n",
              "      box-shadow: 0px 1px 2px rgba(60, 64, 67, 0.3), 0px 1px 3px 1px rgba(60, 64, 67, 0.15);\n",
              "      fill: #174EA6;\n",
              "    }\n",
              "\n",
              "    [theme=dark] .colab-df-convert {\n",
              "      background-color: #3B4455;\n",
              "      fill: #D2E3FC;\n",
              "    }\n",
              "\n",
              "    [theme=dark] .colab-df-convert:hover {\n",
              "      background-color: #434B5C;\n",
              "      box-shadow: 0px 1px 3px 1px rgba(0, 0, 0, 0.15);\n",
              "      filter: drop-shadow(0px 1px 2px rgba(0, 0, 0, 0.3));\n",
              "      fill: #FFFFFF;\n",
              "    }\n",
              "  </style>\n",
              "\n",
              "      <script>\n",
              "        const buttonEl =\n",
              "          document.querySelector('#df-18320af9-95ae-43d5-97af-f88eba152c02 button.colab-df-convert');\n",
              "        buttonEl.style.display =\n",
              "          google.colab.kernel.accessAllowed ? 'block' : 'none';\n",
              "\n",
              "        async function convertToInteractive(key) {\n",
              "          const element = document.querySelector('#df-18320af9-95ae-43d5-97af-f88eba152c02');\n",
              "          const dataTable =\n",
              "            await google.colab.kernel.invokeFunction('convertToInteractive',\n",
              "                                                     [key], {});\n",
              "          if (!dataTable) return;\n",
              "\n",
              "          const docLinkHtml = 'Like what you see? Visit the ' +\n",
              "            '<a target=\"_blank\" href=https://colab.research.google.com/notebooks/data_table.ipynb>data table notebook</a>'\n",
              "            + ' to learn more about interactive tables.';\n",
              "          element.innerHTML = '';\n",
              "          dataTable['output_type'] = 'display_data';\n",
              "          await google.colab.output.renderOutput(dataTable, element);\n",
              "          const docLink = document.createElement('div');\n",
              "          docLink.innerHTML = docLinkHtml;\n",
              "          element.appendChild(docLink);\n",
              "        }\n",
              "      </script>\n",
              "    </div>\n",
              "  </div>\n",
              "  "
            ]
          },
          "metadata": {},
          "execution_count": 25
        }
      ]
    },
    {
      "cell_type": "markdown",
      "source": [
        "**Ancova- total search reason vs race when control age**"
      ],
      "metadata": {
        "id": "QcC0fzIAy-wT"
      }
    },
    {
      "cell_type": "code",
      "source": [
        "ancova(data=df_cleaned_SS, dv='Total_SearchReason', covar='Age_Group', between='Race')"
      ],
      "metadata": {
        "id": "ZUdMyyGSo2t3",
        "colab": {
          "base_uri": "https://localhost:8080/"
        },
        "outputId": "4ac3cfe9-5c3e-4e4b-bef1-dec4cb4b0d24"
      },
      "execution_count": null,
      "outputs": [
        {
          "output_type": "execute_result",
          "data": {
            "text/plain": [
              "      Source            SS    DF          F     p-unc       np2\n",
              "0       Race      9.881774     6   1.132734  0.340213  0.000936\n",
              "1  Age_Group     26.361787     1  18.130890  0.000021  0.002493\n",
              "2   Residual  10550.013329  7256        NaN       NaN       NaN"
            ],
            "text/html": [
              "\n",
              "  <div id=\"df-675cef84-1a9f-4d36-87b5-ba3c465a5d39\">\n",
              "    <div class=\"colab-df-container\">\n",
              "      <div>\n",
              "<style scoped>\n",
              "    .dataframe tbody tr th:only-of-type {\n",
              "        vertical-align: middle;\n",
              "    }\n",
              "\n",
              "    .dataframe tbody tr th {\n",
              "        vertical-align: top;\n",
              "    }\n",
              "\n",
              "    .dataframe thead th {\n",
              "        text-align: right;\n",
              "    }\n",
              "</style>\n",
              "<table border=\"1\" class=\"dataframe\">\n",
              "  <thead>\n",
              "    <tr style=\"text-align: right;\">\n",
              "      <th></th>\n",
              "      <th>Source</th>\n",
              "      <th>SS</th>\n",
              "      <th>DF</th>\n",
              "      <th>F</th>\n",
              "      <th>p-unc</th>\n",
              "      <th>np2</th>\n",
              "    </tr>\n",
              "  </thead>\n",
              "  <tbody>\n",
              "    <tr>\n",
              "      <th>0</th>\n",
              "      <td>Race</td>\n",
              "      <td>9.881774</td>\n",
              "      <td>6</td>\n",
              "      <td>1.132734</td>\n",
              "      <td>0.340213</td>\n",
              "      <td>0.000936</td>\n",
              "    </tr>\n",
              "    <tr>\n",
              "      <th>1</th>\n",
              "      <td>Age_Group</td>\n",
              "      <td>26.361787</td>\n",
              "      <td>1</td>\n",
              "      <td>18.130890</td>\n",
              "      <td>0.000021</td>\n",
              "      <td>0.002493</td>\n",
              "    </tr>\n",
              "    <tr>\n",
              "      <th>2</th>\n",
              "      <td>Residual</td>\n",
              "      <td>10550.013329</td>\n",
              "      <td>7256</td>\n",
              "      <td>NaN</td>\n",
              "      <td>NaN</td>\n",
              "      <td>NaN</td>\n",
              "    </tr>\n",
              "  </tbody>\n",
              "</table>\n",
              "</div>\n",
              "      <button class=\"colab-df-convert\" onclick=\"convertToInteractive('df-675cef84-1a9f-4d36-87b5-ba3c465a5d39')\"\n",
              "              title=\"Convert this dataframe to an interactive table.\"\n",
              "              style=\"display:none;\">\n",
              "        \n",
              "  <svg xmlns=\"http://www.w3.org/2000/svg\" height=\"24px\"viewBox=\"0 0 24 24\"\n",
              "       width=\"24px\">\n",
              "    <path d=\"M0 0h24v24H0V0z\" fill=\"none\"/>\n",
              "    <path d=\"M18.56 5.44l.94 2.06.94-2.06 2.06-.94-2.06-.94-.94-2.06-.94 2.06-2.06.94zm-11 1L8.5 8.5l.94-2.06 2.06-.94-2.06-.94L8.5 2.5l-.94 2.06-2.06.94zm10 10l.94 2.06.94-2.06 2.06-.94-2.06-.94-.94-2.06-.94 2.06-2.06.94z\"/><path d=\"M17.41 7.96l-1.37-1.37c-.4-.4-.92-.59-1.43-.59-.52 0-1.04.2-1.43.59L10.3 9.45l-7.72 7.72c-.78.78-.78 2.05 0 2.83L4 21.41c.39.39.9.59 1.41.59.51 0 1.02-.2 1.41-.59l7.78-7.78 2.81-2.81c.8-.78.8-2.07 0-2.86zM5.41 20L4 18.59l7.72-7.72 1.47 1.35L5.41 20z\"/>\n",
              "  </svg>\n",
              "      </button>\n",
              "      \n",
              "  <style>\n",
              "    .colab-df-container {\n",
              "      display:flex;\n",
              "      flex-wrap:wrap;\n",
              "      gap: 12px;\n",
              "    }\n",
              "\n",
              "    .colab-df-convert {\n",
              "      background-color: #E8F0FE;\n",
              "      border: none;\n",
              "      border-radius: 50%;\n",
              "      cursor: pointer;\n",
              "      display: none;\n",
              "      fill: #1967D2;\n",
              "      height: 32px;\n",
              "      padding: 0 0 0 0;\n",
              "      width: 32px;\n",
              "    }\n",
              "\n",
              "    .colab-df-convert:hover {\n",
              "      background-color: #E2EBFA;\n",
              "      box-shadow: 0px 1px 2px rgba(60, 64, 67, 0.3), 0px 1px 3px 1px rgba(60, 64, 67, 0.15);\n",
              "      fill: #174EA6;\n",
              "    }\n",
              "\n",
              "    [theme=dark] .colab-df-convert {\n",
              "      background-color: #3B4455;\n",
              "      fill: #D2E3FC;\n",
              "    }\n",
              "\n",
              "    [theme=dark] .colab-df-convert:hover {\n",
              "      background-color: #434B5C;\n",
              "      box-shadow: 0px 1px 3px 1px rgba(0, 0, 0, 0.15);\n",
              "      filter: drop-shadow(0px 1px 2px rgba(0, 0, 0, 0.3));\n",
              "      fill: #FFFFFF;\n",
              "    }\n",
              "  </style>\n",
              "\n",
              "      <script>\n",
              "        const buttonEl =\n",
              "          document.querySelector('#df-675cef84-1a9f-4d36-87b5-ba3c465a5d39 button.colab-df-convert');\n",
              "        buttonEl.style.display =\n",
              "          google.colab.kernel.accessAllowed ? 'block' : 'none';\n",
              "\n",
              "        async function convertToInteractive(key) {\n",
              "          const element = document.querySelector('#df-675cef84-1a9f-4d36-87b5-ba3c465a5d39');\n",
              "          const dataTable =\n",
              "            await google.colab.kernel.invokeFunction('convertToInteractive',\n",
              "                                                     [key], {});\n",
              "          if (!dataTable) return;\n",
              "\n",
              "          const docLinkHtml = 'Like what you see? Visit the ' +\n",
              "            '<a target=\"_blank\" href=https://colab.research.google.com/notebooks/data_table.ipynb>data table notebook</a>'\n",
              "            + ' to learn more about interactive tables.';\n",
              "          element.innerHTML = '';\n",
              "          dataTable['output_type'] = 'display_data';\n",
              "          await google.colab.output.renderOutput(dataTable, element);\n",
              "          const docLink = document.createElement('div');\n",
              "          docLink.innerHTML = docLinkHtml;\n",
              "          element.appendChild(docLink);\n",
              "        }\n",
              "      </script>\n",
              "    </div>\n",
              "  </div>\n",
              "  "
            ]
          },
          "metadata": {},
          "execution_count": 26
        }
      ]
    },
    {
      "cell_type": "markdown",
      "source": [
        "**Ancova- total actions at arrest vs. race when control age**\n",
        "\n",
        "\n"
      ],
      "metadata": {
        "id": "ntA6mPQSzQu0"
      }
    },
    {
      "cell_type": "code",
      "source": [
        "ancova(data=df_cleaned_SS, dv='Total_Actions', covar='Age_Group', between='Race')"
      ],
      "metadata": {
        "colab": {
          "base_uri": "https://localhost:8080/"
        },
        "id": "yHKZw-oyzYuZ",
        "outputId": "e54cecc2-6ca8-490b-bd2b-79d23a5fd124"
      },
      "execution_count": null,
      "outputs": [
        {
          "output_type": "execute_result",
          "data": {
            "text/plain": [
              "      Source           SS    DF         F     p-unc           np2\n",
              "0       Race    11.486780     6  5.195426  0.000024  4.277730e-03\n",
              "1  Age_Group     0.000023     1  0.000063  0.993681  8.645020e-09\n",
              "2   Residual  2673.764511  7256       NaN       NaN           NaN"
            ],
            "text/html": [
              "\n",
              "  <div id=\"df-8ac93a0b-dfb7-41ba-9007-2dab078a4721\">\n",
              "    <div class=\"colab-df-container\">\n",
              "      <div>\n",
              "<style scoped>\n",
              "    .dataframe tbody tr th:only-of-type {\n",
              "        vertical-align: middle;\n",
              "    }\n",
              "\n",
              "    .dataframe tbody tr th {\n",
              "        vertical-align: top;\n",
              "    }\n",
              "\n",
              "    .dataframe thead th {\n",
              "        text-align: right;\n",
              "    }\n",
              "</style>\n",
              "<table border=\"1\" class=\"dataframe\">\n",
              "  <thead>\n",
              "    <tr style=\"text-align: right;\">\n",
              "      <th></th>\n",
              "      <th>Source</th>\n",
              "      <th>SS</th>\n",
              "      <th>DF</th>\n",
              "      <th>F</th>\n",
              "      <th>p-unc</th>\n",
              "      <th>np2</th>\n",
              "    </tr>\n",
              "  </thead>\n",
              "  <tbody>\n",
              "    <tr>\n",
              "      <th>0</th>\n",
              "      <td>Race</td>\n",
              "      <td>11.486780</td>\n",
              "      <td>6</td>\n",
              "      <td>5.195426</td>\n",
              "      <td>0.000024</td>\n",
              "      <td>4.277730e-03</td>\n",
              "    </tr>\n",
              "    <tr>\n",
              "      <th>1</th>\n",
              "      <td>Age_Group</td>\n",
              "      <td>0.000023</td>\n",
              "      <td>1</td>\n",
              "      <td>0.000063</td>\n",
              "      <td>0.993681</td>\n",
              "      <td>8.645020e-09</td>\n",
              "    </tr>\n",
              "    <tr>\n",
              "      <th>2</th>\n",
              "      <td>Residual</td>\n",
              "      <td>2673.764511</td>\n",
              "      <td>7256</td>\n",
              "      <td>NaN</td>\n",
              "      <td>NaN</td>\n",
              "      <td>NaN</td>\n",
              "    </tr>\n",
              "  </tbody>\n",
              "</table>\n",
              "</div>\n",
              "      <button class=\"colab-df-convert\" onclick=\"convertToInteractive('df-8ac93a0b-dfb7-41ba-9007-2dab078a4721')\"\n",
              "              title=\"Convert this dataframe to an interactive table.\"\n",
              "              style=\"display:none;\">\n",
              "        \n",
              "  <svg xmlns=\"http://www.w3.org/2000/svg\" height=\"24px\"viewBox=\"0 0 24 24\"\n",
              "       width=\"24px\">\n",
              "    <path d=\"M0 0h24v24H0V0z\" fill=\"none\"/>\n",
              "    <path d=\"M18.56 5.44l.94 2.06.94-2.06 2.06-.94-2.06-.94-.94-2.06-.94 2.06-2.06.94zm-11 1L8.5 8.5l.94-2.06 2.06-.94-2.06-.94L8.5 2.5l-.94 2.06-2.06.94zm10 10l.94 2.06.94-2.06 2.06-.94-2.06-.94-.94-2.06-.94 2.06-2.06.94z\"/><path d=\"M17.41 7.96l-1.37-1.37c-.4-.4-.92-.59-1.43-.59-.52 0-1.04.2-1.43.59L10.3 9.45l-7.72 7.72c-.78.78-.78 2.05 0 2.83L4 21.41c.39.39.9.59 1.41.59.51 0 1.02-.2 1.41-.59l7.78-7.78 2.81-2.81c.8-.78.8-2.07 0-2.86zM5.41 20L4 18.59l7.72-7.72 1.47 1.35L5.41 20z\"/>\n",
              "  </svg>\n",
              "      </button>\n",
              "      \n",
              "  <style>\n",
              "    .colab-df-container {\n",
              "      display:flex;\n",
              "      flex-wrap:wrap;\n",
              "      gap: 12px;\n",
              "    }\n",
              "\n",
              "    .colab-df-convert {\n",
              "      background-color: #E8F0FE;\n",
              "      border: none;\n",
              "      border-radius: 50%;\n",
              "      cursor: pointer;\n",
              "      display: none;\n",
              "      fill: #1967D2;\n",
              "      height: 32px;\n",
              "      padding: 0 0 0 0;\n",
              "      width: 32px;\n",
              "    }\n",
              "\n",
              "    .colab-df-convert:hover {\n",
              "      background-color: #E2EBFA;\n",
              "      box-shadow: 0px 1px 2px rgba(60, 64, 67, 0.3), 0px 1px 3px 1px rgba(60, 64, 67, 0.15);\n",
              "      fill: #174EA6;\n",
              "    }\n",
              "\n",
              "    [theme=dark] .colab-df-convert {\n",
              "      background-color: #3B4455;\n",
              "      fill: #D2E3FC;\n",
              "    }\n",
              "\n",
              "    [theme=dark] .colab-df-convert:hover {\n",
              "      background-color: #434B5C;\n",
              "      box-shadow: 0px 1px 3px 1px rgba(0, 0, 0, 0.15);\n",
              "      filter: drop-shadow(0px 1px 2px rgba(0, 0, 0, 0.3));\n",
              "      fill: #FFFFFF;\n",
              "    }\n",
              "  </style>\n",
              "\n",
              "      <script>\n",
              "        const buttonEl =\n",
              "          document.querySelector('#df-8ac93a0b-dfb7-41ba-9007-2dab078a4721 button.colab-df-convert');\n",
              "        buttonEl.style.display =\n",
              "          google.colab.kernel.accessAllowed ? 'block' : 'none';\n",
              "\n",
              "        async function convertToInteractive(key) {\n",
              "          const element = document.querySelector('#df-8ac93a0b-dfb7-41ba-9007-2dab078a4721');\n",
              "          const dataTable =\n",
              "            await google.colab.kernel.invokeFunction('convertToInteractive',\n",
              "                                                     [key], {});\n",
              "          if (!dataTable) return;\n",
              "\n",
              "          const docLinkHtml = 'Like what you see? Visit the ' +\n",
              "            '<a target=\"_blank\" href=https://colab.research.google.com/notebooks/data_table.ipynb>data table notebook</a>'\n",
              "            + ' to learn more about interactive tables.';\n",
              "          element.innerHTML = '';\n",
              "          dataTable['output_type'] = 'display_data';\n",
              "          await google.colab.output.renderOutput(dataTable, element);\n",
              "          const docLink = document.createElement('div');\n",
              "          docLink.innerHTML = docLinkHtml;\n",
              "          element.appendChild(docLink);\n",
              "        }\n",
              "      </script>\n",
              "    </div>\n",
              "  </div>\n",
              "  "
            ]
          },
          "metadata": {},
          "execution_count": 27
        }
      ]
    },
    {
      "cell_type": "markdown",
      "source": [
        "**Ancova- total actions at arrest vs. Sex when control age**"
      ],
      "metadata": {
        "id": "B8MSjsQAzkT6"
      }
    },
    {
      "cell_type": "code",
      "source": [
        "ancova(data=df_cleaned_SS, dv='Total_Actions', covar='Age_Group', between='Sex')"
      ],
      "metadata": {
        "colab": {
          "base_uri": "https://localhost:8080/"
        },
        "id": "CKFDCI_-zrXW",
        "outputId": "33dd2971-423d-4ad6-9519-c3277e8acff0"
      },
      "execution_count": null,
      "outputs": [
        {
          "output_type": "execute_result",
          "data": {
            "text/plain": [
              "      Source           SS    DF         F     p-unc       np2\n",
              "0        Sex     0.252174     1  0.681950  0.408943  0.000094\n",
              "1  Age_Group     0.394527     1  1.066913  0.301678  0.000147\n",
              "2   Residual  2684.999117  7261       NaN       NaN       NaN"
            ],
            "text/html": [
              "\n",
              "  <div id=\"df-9ca14e16-5cf6-497e-b1b8-c97008acc343\">\n",
              "    <div class=\"colab-df-container\">\n",
              "      <div>\n",
              "<style scoped>\n",
              "    .dataframe tbody tr th:only-of-type {\n",
              "        vertical-align: middle;\n",
              "    }\n",
              "\n",
              "    .dataframe tbody tr th {\n",
              "        vertical-align: top;\n",
              "    }\n",
              "\n",
              "    .dataframe thead th {\n",
              "        text-align: right;\n",
              "    }\n",
              "</style>\n",
              "<table border=\"1\" class=\"dataframe\">\n",
              "  <thead>\n",
              "    <tr style=\"text-align: right;\">\n",
              "      <th></th>\n",
              "      <th>Source</th>\n",
              "      <th>SS</th>\n",
              "      <th>DF</th>\n",
              "      <th>F</th>\n",
              "      <th>p-unc</th>\n",
              "      <th>np2</th>\n",
              "    </tr>\n",
              "  </thead>\n",
              "  <tbody>\n",
              "    <tr>\n",
              "      <th>0</th>\n",
              "      <td>Sex</td>\n",
              "      <td>0.252174</td>\n",
              "      <td>1</td>\n",
              "      <td>0.681950</td>\n",
              "      <td>0.408943</td>\n",
              "      <td>0.000094</td>\n",
              "    </tr>\n",
              "    <tr>\n",
              "      <th>1</th>\n",
              "      <td>Age_Group</td>\n",
              "      <td>0.394527</td>\n",
              "      <td>1</td>\n",
              "      <td>1.066913</td>\n",
              "      <td>0.301678</td>\n",
              "      <td>0.000147</td>\n",
              "    </tr>\n",
              "    <tr>\n",
              "      <th>2</th>\n",
              "      <td>Residual</td>\n",
              "      <td>2684.999117</td>\n",
              "      <td>7261</td>\n",
              "      <td>NaN</td>\n",
              "      <td>NaN</td>\n",
              "      <td>NaN</td>\n",
              "    </tr>\n",
              "  </tbody>\n",
              "</table>\n",
              "</div>\n",
              "      <button class=\"colab-df-convert\" onclick=\"convertToInteractive('df-9ca14e16-5cf6-497e-b1b8-c97008acc343')\"\n",
              "              title=\"Convert this dataframe to an interactive table.\"\n",
              "              style=\"display:none;\">\n",
              "        \n",
              "  <svg xmlns=\"http://www.w3.org/2000/svg\" height=\"24px\"viewBox=\"0 0 24 24\"\n",
              "       width=\"24px\">\n",
              "    <path d=\"M0 0h24v24H0V0z\" fill=\"none\"/>\n",
              "    <path d=\"M18.56 5.44l.94 2.06.94-2.06 2.06-.94-2.06-.94-.94-2.06-.94 2.06-2.06.94zm-11 1L8.5 8.5l.94-2.06 2.06-.94-2.06-.94L8.5 2.5l-.94 2.06-2.06.94zm10 10l.94 2.06.94-2.06 2.06-.94-2.06-.94-.94-2.06-.94 2.06-2.06.94z\"/><path d=\"M17.41 7.96l-1.37-1.37c-.4-.4-.92-.59-1.43-.59-.52 0-1.04.2-1.43.59L10.3 9.45l-7.72 7.72c-.78.78-.78 2.05 0 2.83L4 21.41c.39.39.9.59 1.41.59.51 0 1.02-.2 1.41-.59l7.78-7.78 2.81-2.81c.8-.78.8-2.07 0-2.86zM5.41 20L4 18.59l7.72-7.72 1.47 1.35L5.41 20z\"/>\n",
              "  </svg>\n",
              "      </button>\n",
              "      \n",
              "  <style>\n",
              "    .colab-df-container {\n",
              "      display:flex;\n",
              "      flex-wrap:wrap;\n",
              "      gap: 12px;\n",
              "    }\n",
              "\n",
              "    .colab-df-convert {\n",
              "      background-color: #E8F0FE;\n",
              "      border: none;\n",
              "      border-radius: 50%;\n",
              "      cursor: pointer;\n",
              "      display: none;\n",
              "      fill: #1967D2;\n",
              "      height: 32px;\n",
              "      padding: 0 0 0 0;\n",
              "      width: 32px;\n",
              "    }\n",
              "\n",
              "    .colab-df-convert:hover {\n",
              "      background-color: #E2EBFA;\n",
              "      box-shadow: 0px 1px 2px rgba(60, 64, 67, 0.3), 0px 1px 3px 1px rgba(60, 64, 67, 0.15);\n",
              "      fill: #174EA6;\n",
              "    }\n",
              "\n",
              "    [theme=dark] .colab-df-convert {\n",
              "      background-color: #3B4455;\n",
              "      fill: #D2E3FC;\n",
              "    }\n",
              "\n",
              "    [theme=dark] .colab-df-convert:hover {\n",
              "      background-color: #434B5C;\n",
              "      box-shadow: 0px 1px 3px 1px rgba(0, 0, 0, 0.15);\n",
              "      filter: drop-shadow(0px 1px 2px rgba(0, 0, 0, 0.3));\n",
              "      fill: #FFFFFF;\n",
              "    }\n",
              "  </style>\n",
              "\n",
              "      <script>\n",
              "        const buttonEl =\n",
              "          document.querySelector('#df-9ca14e16-5cf6-497e-b1b8-c97008acc343 button.colab-df-convert');\n",
              "        buttonEl.style.display =\n",
              "          google.colab.kernel.accessAllowed ? 'block' : 'none';\n",
              "\n",
              "        async function convertToInteractive(key) {\n",
              "          const element = document.querySelector('#df-9ca14e16-5cf6-497e-b1b8-c97008acc343');\n",
              "          const dataTable =\n",
              "            await google.colab.kernel.invokeFunction('convertToInteractive',\n",
              "                                                     [key], {});\n",
              "          if (!dataTable) return;\n",
              "\n",
              "          const docLinkHtml = 'Like what you see? Visit the ' +\n",
              "            '<a target=\"_blank\" href=https://colab.research.google.com/notebooks/data_table.ipynb>data table notebook</a>'\n",
              "            + ' to learn more about interactive tables.';\n",
              "          element.innerHTML = '';\n",
              "          dataTable['output_type'] = 'display_data';\n",
              "          await google.colab.output.renderOutput(dataTable, element);\n",
              "          const docLink = document.createElement('div');\n",
              "          docLink.innerHTML = docLinkHtml;\n",
              "          element.appendChild(docLink);\n",
              "        }\n",
              "      </script>\n",
              "    </div>\n",
              "  </div>\n",
              "  "
            ]
          },
          "metadata": {},
          "execution_count": 28
        }
      ]
    },
    {
      "cell_type": "markdown",
      "source": [
        "# **Power analysis for ANCOVA TO TEST THE POWER**"
      ],
      "metadata": {
        "id": "1Xvvf8H_1KFU"
      }
    },
    {
      "cell_type": "code",
      "source": [
        "import statsmodels.stats.power as smp\n",
        "\n",
        "# Number of groups\n",
        "k = 2\n",
        "\n",
        "# Sample size per group\n",
        "n = 7264\n",
        "\n",
        "# Effect size (Cohen's f)\n",
        "f = 0.25\n",
        "\n",
        "# Significance level (alpha)\n",
        "alpha = 0.05\n",
        "\n",
        "# Perform power analysis\n",
        "anova_power = smp.FTestAnovaPower()\n",
        "power = anova_power.solve_power(effect_size=f, nobs=n, alpha=alpha)\n",
        "\n",
        "print(\"Number of groups (k):\", k)\n",
        "print(\"Sample size per group (n):\", n)\n",
        "print(\"Effect size (Cohen's f):\", f)\n",
        "print(\"Significance level (alpha):\", alpha)\n",
        "print(\"Power:\", power)"
      ],
      "metadata": {
        "colab": {
          "base_uri": "https://localhost:8080/"
        },
        "id": "CtB8jLpv1QvX",
        "outputId": "42c6f8b5-2f2c-4905-a190-f95c5f7bda9f"
      },
      "execution_count": null,
      "outputs": [
        {
          "output_type": "stream",
          "name": "stdout",
          "text": [
            "Number of groups (k): 2\n",
            "Sample size per group (n): 7264\n",
            "Effect size (Cohen's f): 0.25\n",
            "Significance level (alpha): 0.05\n",
            "Power: 1.0\n"
          ]
        }
      ]
    },
    {
      "cell_type": "code",
      "source": [
        "# power analysis varying parameters\n",
        "effect_sizes = np.array([0.1, 0.25,0.4])\n",
        "sample_sizes = np.array(range(10, 500))\n",
        "\n",
        "# plot power curves\n",
        "obj = smp.FTestAnovaPower()\n",
        "obj.plot_power(dep_var='nobs', nobs=sample_sizes, effect_size=effect_sizes)\n",
        "\n",
        "plt.show()"
      ],
      "metadata": {
        "colab": {
          "base_uri": "https://localhost:8080/"
        },
        "id": "clmIAV-v4P8p",
        "outputId": "c7607b38-f867-4845-a651-4149bb21e1b7"
      },
      "execution_count": null,
      "outputs": [
        {
          "output_type": "display_data",
          "data": {
            "text/plain": [
              "<Figure size 640x480 with 1 Axes>"
            ],
            "image/png": "[encoded data removed]"
          },
          "metadata": {}
        }
      ]
    },
    {
      "cell_type": "markdown",
      "source": [
        "#Logistic Regression\n",
        "After conducting the analysis we can create a logistic regression model to further investigate the data "
      ],
      "metadata": {
        "id": "3ZpmQS3wJ41y"
      }
    },
    {
      "cell_type": "code",
      "source": [
        "# Preparing Dataset for LR Model\n",
        "df_LR = df_cleaned\n",
        "df_LR['RaceCode'] = df_LR[\"Race\"].map({'Black': 0, 'White': 1, 'East/Southeast Asian' :0,\"Indigenous\":0, \"Latino\":0, \"Middle-Eastern\":0, \"South Asian\":0})\n",
        "df_LR.drop(\"Race\", axis=1, inplace=True)\n",
        "df_LR.drop(\"Total_SearchReason\", axis=1, inplace=True)\n",
        "df_cleaned"
      ],
      "metadata": {
        "colab": {
          "base_uri": "https://localhost:8080/"
        },
        "id": "WJ24hmG6rAjj",
        "outputId": "f216e643-5e67-480b-c652-7afd5765d431"
      },
      "execution_count": null,
      "outputs": [
        {
          "output_type": "execute_result",
          "data": {
            "text/plain": [
              "      Sex  Age_Group  StripSearch  Total_Actions  RaceCode\n",
              "0       M         40            0              0         1\n",
              "1       M         40            0              0         1\n",
              "2       M         30            0              0         0\n",
              "3       M         30            0              0         0\n",
              "4       M         30            0              0         0\n",
              "...    ..        ...          ...            ...       ...\n",
              "60182   F         30            0              0         1\n",
              "60183   F         30            0              1         0\n",
              "60184   M         40            0              0         0\n",
              "60185   F         50            0              0         1\n",
              "60186   M         21            0              0         0\n",
              "\n",
              "[60187 rows x 5 columns]"
            ],
            "text/html": [
              "\n",
              "  <div id=\"df-d49de970-5991-4976-b239-11ce706363c7\">\n",
              "    <div class=\"colab-df-container\">\n",
              "      <div>\n",
              "<style scoped>\n",
              "    .dataframe tbody tr th:only-of-type {\n",
              "        vertical-align: middle;\n",
              "    }\n",
              "\n",
              "    .dataframe tbody tr th {\n",
              "        vertical-align: top;\n",
              "    }\n",
              "\n",
              "    .dataframe thead th {\n",
              "        text-align: right;\n",
              "    }\n",
              "</style>\n",
              "<table border=\"1\" class=\"dataframe\">\n",
              "  <thead>\n",
              "    <tr style=\"text-align: right;\">\n",
              "      <th></th>\n",
              "      <th>Sex</th>\n",
              "      <th>Age_Group</th>\n",
              "      <th>StripSearch</th>\n",
              "      <th>Total_Actions</th>\n",
              "      <th>RaceCode</th>\n",
              "    </tr>\n",
              "  </thead>\n",
              "  <tbody>\n",
              "    <tr>\n",
              "      <th>0</th>\n",
              "      <td>M</td>\n",
              "      <td>40</td>\n",
              "      <td>0</td>\n",
              "      <td>0</td>\n",
              "      <td>1</td>\n",
              "    </tr>\n",
              "    <tr>\n",
              "      <th>1</th>\n",
              "      <td>M</td>\n",
              "      <td>40</td>\n",
              "      <td>0</td>\n",
              "      <td>0</td>\n",
              "      <td>1</td>\n",
              "    </tr>\n",
              "    <tr>\n",
              "      <th>2</th>\n",
              "      <td>M</td>\n",
              "      <td>30</td>\n",
              "      <td>0</td>\n",
              "      <td>0</td>\n",
              "      <td>0</td>\n",
              "    </tr>\n",
              "    <tr>\n",
              "      <th>3</th>\n",
              "      <td>M</td>\n",
              "      <td>30</td>\n",
              "      <td>0</td>\n",
              "      <td>0</td>\n",
              "      <td>0</td>\n",
              "    </tr>\n",
              "    <tr>\n",
              "      <th>4</th>\n",
              "      <td>M</td>\n",
              "      <td>30</td>\n",
              "      <td>0</td>\n",
              "      <td>0</td>\n",
              "      <td>0</td>\n",
              "    </tr>\n",
              "    <tr>\n",
              "      <th>...</th>\n",
              "      <td>...</td>\n",
              "      <td>...</td>\n",
              "      <td>...</td>\n",
              "      <td>...</td>\n",
              "      <td>...</td>\n",
              "    </tr>\n",
              "    <tr>\n",
              "      <th>60182</th>\n",
              "      <td>F</td>\n",
              "      <td>30</td>\n",
              "      <td>0</td>\n",
              "      <td>0</td>\n",
              "      <td>1</td>\n",
              "    </tr>\n",
              "    <tr>\n",
              "      <th>60183</th>\n",
              "      <td>F</td>\n",
              "      <td>30</td>\n",
              "      <td>0</td>\n",
              "      <td>1</td>\n",
              "      <td>0</td>\n",
              "    </tr>\n",
              "    <tr>\n",
              "      <th>60184</th>\n",
              "      <td>M</td>\n",
              "      <td>40</td>\n",
              "      <td>0</td>\n",
              "      <td>0</td>\n",
              "      <td>0</td>\n",
              "    </tr>\n",
              "    <tr>\n",
              "      <th>60185</th>\n",
              "      <td>F</td>\n",
              "      <td>50</td>\n",
              "      <td>0</td>\n",
              "      <td>0</td>\n",
              "      <td>1</td>\n",
              "    </tr>\n",
              "    <tr>\n",
              "      <th>60186</th>\n",
              "      <td>M</td>\n",
              "      <td>21</td>\n",
              "      <td>0</td>\n",
              "      <td>0</td>\n",
              "      <td>0</td>\n",
              "    </tr>\n",
              "  </tbody>\n",
              "</table>\n",
              "<p>60187 rows × 5 columns</p>\n",
              "</div>\n",
              "      <button class=\"colab-df-convert\" onclick=\"convertToInteractive('df-d49de970-5991-4976-b239-11ce706363c7')\"\n",
              "              title=\"Convert this dataframe to an interactive table.\"\n",
              "              style=\"display:none;\">\n",
              "        \n",
              "  <svg xmlns=\"http://www.w3.org/2000/svg\" height=\"24px\"viewBox=\"0 0 24 24\"\n",
              "       width=\"24px\">\n",
              "    <path d=\"M0 0h24v24H0V0z\" fill=\"none\"/>\n",
              "    <path d=\"M18.56 5.44l.94 2.06.94-2.06 2.06-.94-2.06-.94-.94-2.06-.94 2.06-2.06.94zm-11 1L8.5 8.5l.94-2.06 2.06-.94-2.06-.94L8.5 2.5l-.94 2.06-2.06.94zm10 10l.94 2.06.94-2.06 2.06-.94-2.06-.94-.94-2.06-.94 2.06-2.06.94z\"/><path d=\"M17.41 7.96l-1.37-1.37c-.4-.4-.92-.59-1.43-.59-.52 0-1.04.2-1.43.59L10.3 9.45l-7.72 7.72c-.78.78-.78 2.05 0 2.83L4 21.41c.39.39.9.59 1.41.59.51 0 1.02-.2 1.41-.59l7.78-7.78 2.81-2.81c.8-.78.8-2.07 0-2.86zM5.41 20L4 18.59l7.72-7.72 1.47 1.35L5.41 20z\"/>\n",
              "  </svg>\n",
              "      </button>\n",
              "      \n",
              "  <style>\n",
              "    .colab-df-container {\n",
              "      display:flex;\n",
              "      flex-wrap:wrap;\n",
              "      gap: 12px;\n",
              "    }\n",
              "\n",
              "    .colab-df-convert {\n",
              "      background-color: #E8F0FE;\n",
              "      border: none;\n",
              "      border-radius: 50%;\n",
              "      cursor: pointer;\n",
              "      display: none;\n",
              "      fill: #1967D2;\n",
              "      height: 32px;\n",
              "      padding: 0 0 0 0;\n",
              "      width: 32px;\n",
              "    }\n",
              "\n",
              "    .colab-df-convert:hover {\n",
              "      background-color: #E2EBFA;\n",
              "      box-shadow: 0px 1px 2px rgba(60, 64, 67, 0.3), 0px 1px 3px 1px rgba(60, 64, 67, 0.15);\n",
              "      fill: #174EA6;\n",
              "    }\n",
              "\n",
              "    [theme=dark] .colab-df-convert {\n",
              "      background-color: #3B4455;\n",
              "      fill: #D2E3FC;\n",
              "    }\n",
              "\n",
              "    [theme=dark] .colab-df-convert:hover {\n",
              "      background-color: #434B5C;\n",
              "      box-shadow: 0px 1px 3px 1px rgba(0, 0, 0, 0.15);\n",
              "      filter: drop-shadow(0px 1px 2px rgba(0, 0, 0, 0.3));\n",
              "      fill: #FFFFFF;\n",
              "    }\n",
              "  </style>\n",
              "\n",
              "      <script>\n",
              "        const buttonEl =\n",
              "          document.querySelector('#df-d49de970-5991-4976-b239-11ce706363c7 button.colab-df-convert');\n",
              "        buttonEl.style.display =\n",
              "          google.colab.kernel.accessAllowed ? 'block' : 'none';\n",
              "\n",
              "        async function convertToInteractive(key) {\n",
              "          const element = document.querySelector('#df-d49de970-5991-4976-b239-11ce706363c7');\n",
              "          const dataTable =\n",
              "            await google.colab.kernel.invokeFunction('convertToInteractive',\n",
              "                                                     [key], {});\n",
              "          if (!dataTable) return;\n",
              "\n",
              "          const docLinkHtml = 'Like what you see? Visit the ' +\n",
              "            '<a target=\"_blank\" href=https://colab.research.google.com/notebooks/data_table.ipynb>data table notebook</a>'\n",
              "            + ' to learn more about interactive tables.';\n",
              "          element.innerHTML = '';\n",
              "          dataTable['output_type'] = 'display_data';\n",
              "          await google.colab.output.renderOutput(dataTable, element);\n",
              "          const docLink = document.createElement('div');\n",
              "          docLink.innerHTML = docLinkHtml;\n",
              "          element.appendChild(docLink);\n",
              "        }\n",
              "      </script>\n",
              "    </div>\n",
              "  </div>\n",
              "  "
            ]
          },
          "metadata": {},
          "execution_count": 31
        }
      ]
    },
    {
      "cell_type": "code",
      "source": [
        "from sklearn.model_selection import train_test_split\n",
        "\n",
        "# Predictors for the response column\n",
        "sex_dummies = pd.get_dummies(df_LR[\"Sex\"], drop_first=True)\n",
        "x = pd.concat([df_cleaned[[\"Age_Group\", \"Total_Actions\", \"RaceCode\"]],sex_dummies], axis=1)\n",
        " \n",
        "\n",
        "# Response column\n",
        "y = df_LR[\"StripSearch\"]\n",
        "\n",
        "# Splitting the dataset for training and testing\n",
        "X_train, X_test, y_train, y_test = train_test_split(x, y, test_size=0.2, random_state=123)"
      ],
      "metadata": {
        "id": "aCusKrmZbHcJ"
      },
      "execution_count": null,
      "outputs": []
    },
    {
      "cell_type": "code",
      "source": [
        "#building the model with statsmodels\n",
        "\n",
        "import statsmodels.api as sm\n",
        "import seaborn as sns\n",
        "\n",
        "# Fit a logistic regression model\n",
        "model = sm.Logit(y_train, X_train).fit()\n",
        "\n",
        "# Print a summary of the model\n",
        "print(model.summary())\n",
        "     "
      ],
      "metadata": {
        "colab": {
          "base_uri": "https://localhost:8080/"
        },
        "id": "8y14SgaoeNGU",
        "outputId": "4b97ae47-93c1-423b-cc83-89b055b04e63"
      },
      "execution_count": null,
      "outputs": [
        {
          "output_type": "stream",
          "name": "stdout",
          "text": [
            "Optimization terminated successfully.\n",
            "         Current function value: 0.376067\n",
            "         Iterations 6\n",
            "                           Logit Regression Results                           \n",
            "==============================================================================\n",
            "Dep. Variable:            StripSearch   No. Observations:                48149\n",
            "Model:                          Logit   Df Residuals:                    48145\n",
            "Method:                           MLE   Df Model:                            3\n",
            "Date:                Sun, 16 Apr 2023   Pseudo R-squ.:                -0.02294\n",
            "Time:                        04:03:16   Log-Likelihood:                -18107.\n",
            "converged:                       True   LL-Null:                       -17701.\n",
            "Covariance Type:            nonrobust   LLR p-value:                     1.000\n",
            "=================================================================================\n",
            "                    coef    std err          z      P>|z|      [0.025      0.975]\n",
            "---------------------------------------------------------------------------------\n",
            "Age_Group        -0.0491      0.001    -58.616      0.000      -0.051      -0.047\n",
            "Total_Actions     0.4782      0.025     18.883      0.000       0.429       0.528\n",
            "RaceCode          0.0612      0.028      2.204      0.028       0.007       0.116\n",
            "M                -0.3880      0.028    -13.893      0.000      -0.443      -0.333\n",
            "=================================================================================\n"
          ]
        }
      ]
    },
    {
      "cell_type": "code",
      "source": [
        "from sklearn.metrics import confusion_matrix, accuracy_score, f1_score\n",
        "# Code used from the github Notebook\n",
        "# Predict responses \n",
        "pred_1 = model.predict(X_test)\n",
        "# round() rounds to nearest integer;\n",
        "# 0.5 rounds to 0; 0.501 rounds to 1\n",
        "prediction_1 = list(map(round, pred_1))\n",
        "\n",
        "\n",
        "# Accuracy score\n",
        "print('\\nTest accuracy = ', accuracy_score(y_test, prediction_1))\n",
        "\n",
        "\n",
        "# Confusion matrix\n",
        "## Test accuracy =  0.8779697624190065\n",
        "\n",
        "cm = confusion_matrix(y_test, prediction_1) \n",
        "print (\"\\nConfusion Matrix : \\n\", cm) \n",
        "\n",
        "f1 = f1_score(y_test, prediction_1)\n",
        "print(\"\\nF1 Score: \\n\", f1)"
      ],
      "metadata": {
        "colab": {
          "base_uri": "https://localhost:8080/"
        },
        "id": "SjkDG-xDbwTA",
        "outputId": "63ff9ae4-5f0f-4e69-ae4c-33a06e761bcc"
      },
      "execution_count": null,
      "outputs": [
        {
          "output_type": "stream",
          "name": "stdout",
          "text": [
            "\n",
            "Test accuracy =  0.877222129921914\n",
            "\n",
            "Confusion Matrix : \n",
            " [[10555    14]\n",
            " [ 1464     5]]\n",
            "\n",
            "F1 Score: \n",
            " 0.006720430107526882\n"
          ]
        }
      ]
    },
    {
      "cell_type": "code",
      "source": [
        "# Odds Ratio Calculation\n",
        "params = model.params\n",
        "conf = model.conf_int()\n",
        "conf['OR'] = params\n",
        "conf.columns = [\"Lower CI\", \"Upper CI\", \"OR\"]\n",
        "np.exp(conf)"
      ],
      "metadata": {
        "colab": {
          "base_uri": "https://localhost:8080/"
        },
        "id": "Uvs25Heqc04-",
        "outputId": "211db58d-ed3b-4519-89f6-f18afff70b28"
      },
      "execution_count": null,
      "outputs": [
        {
          "output_type": "execute_result",
          "data": {
            "text/plain": [
              "               Lower CI  Upper CI        OR\n",
              "Age_Group      0.950569  0.953693  0.952130\n",
              "Total_Actions  1.535006  1.695191  1.613111\n",
              "RaceCode       1.006803  1.122652  1.063151\n",
              "M              0.642244  0.716556  0.678383"
            ],
            "text/html": [
              "\n",
              "  <div id=\"df-2f86b043-a296-429a-acfd-d4380a8f1b92\">\n",
              "    <div class=\"colab-df-container\">\n",
              "      <div>\n",
              "<style scoped>\n",
              "    .dataframe tbody tr th:only-of-type {\n",
              "        vertical-align: middle;\n",
              "    }\n",
              "\n",
              "    .dataframe tbody tr th {\n",
              "        vertical-align: top;\n",
              "    }\n",
              "\n",
              "    .dataframe thead th {\n",
              "        text-align: right;\n",
              "    }\n",
              "</style>\n",
              "<table border=\"1\" class=\"dataframe\">\n",
              "  <thead>\n",
              "    <tr style=\"text-align: right;\">\n",
              "      <th></th>\n",
              "      <th>Lower CI</th>\n",
              "      <th>Upper CI</th>\n",
              "      <th>OR</th>\n",
              "    </tr>\n",
              "  </thead>\n",
              "  <tbody>\n",
              "    <tr>\n",
              "      <th>Age_Group</th>\n",
              "      <td>0.950569</td>\n",
              "      <td>0.953693</td>\n",
              "      <td>0.952130</td>\n",
              "    </tr>\n",
              "    <tr>\n",
              "      <th>Total_Actions</th>\n",
              "      <td>1.535006</td>\n",
              "      <td>1.695191</td>\n",
              "      <td>1.613111</td>\n",
              "    </tr>\n",
              "    <tr>\n",
              "      <th>RaceCode</th>\n",
              "      <td>1.006803</td>\n",
              "      <td>1.122652</td>\n",
              "      <td>1.063151</td>\n",
              "    </tr>\n",
              "    <tr>\n",
              "      <th>M</th>\n",
              "      <td>0.642244</td>\n",
              "      <td>0.716556</td>\n",
              "      <td>0.678383</td>\n",
              "    </tr>\n",
              "  </tbody>\n",
              "</table>\n",
              "</div>\n",
              "      <button class=\"colab-df-convert\" onclick=\"convertToInteractive('df-2f86b043-a296-429a-acfd-d4380a8f1b92')\"\n",
              "              title=\"Convert this dataframe to an interactive table.\"\n",
              "              style=\"display:none;\">\n",
              "        \n",
              "  <svg xmlns=\"http://www.w3.org/2000/svg\" height=\"24px\"viewBox=\"0 0 24 24\"\n",
              "       width=\"24px\">\n",
              "    <path d=\"M0 0h24v24H0V0z\" fill=\"none\"/>\n",
              "    <path d=\"M18.56 5.44l.94 2.06.94-2.06 2.06-.94-2.06-.94-.94-2.06-.94 2.06-2.06.94zm-11 1L8.5 8.5l.94-2.06 2.06-.94-2.06-.94L8.5 2.5l-.94 2.06-2.06.94zm10 10l.94 2.06.94-2.06 2.06-.94-2.06-.94-.94-2.06-.94 2.06-2.06.94z\"/><path d=\"M17.41 7.96l-1.37-1.37c-.4-.4-.92-.59-1.43-.59-.52 0-1.04.2-1.43.59L10.3 9.45l-7.72 7.72c-.78.78-.78 2.05 0 2.83L4 21.41c.39.39.9.59 1.41.59.51 0 1.02-.2 1.41-.59l7.78-7.78 2.81-2.81c.8-.78.8-2.07 0-2.86zM5.41 20L4 18.59l7.72-7.72 1.47 1.35L5.41 20z\"/>\n",
              "  </svg>\n",
              "      </button>\n",
              "      \n",
              "  <style>\n",
              "    .colab-df-container {\n",
              "      display:flex;\n",
              "      flex-wrap:wrap;\n",
              "      gap: 12px;\n",
              "    }\n",
              "\n",
              "    .colab-df-convert {\n",
              "      background-color: #E8F0FE;\n",
              "      border: none;\n",
              "      border-radius: 50%;\n",
              "      cursor: pointer;\n",
              "      display: none;\n",
              "      fill: #1967D2;\n",
              "      height: 32px;\n",
              "      padding: 0 0 0 0;\n",
              "      width: 32px;\n",
              "    }\n",
              "\n",
              "    .colab-df-convert:hover {\n",
              "      background-color: #E2EBFA;\n",
              "      box-shadow: 0px 1px 2px rgba(60, 64, 67, 0.3), 0px 1px 3px 1px rgba(60, 64, 67, 0.15);\n",
              "      fill: #174EA6;\n",
              "    }\n",
              "\n",
              "    [theme=dark] .colab-df-convert {\n",
              "      background-color: #3B4455;\n",
              "      fill: #D2E3FC;\n",
              "    }\n",
              "\n",
              "    [theme=dark] .colab-df-convert:hover {\n",
              "      background-color: #434B5C;\n",
              "      box-shadow: 0px 1px 3px 1px rgba(0, 0, 0, 0.15);\n",
              "      filter: drop-shadow(0px 1px 2px rgba(0, 0, 0, 0.3));\n",
              "      fill: #FFFFFF;\n",
              "    }\n",
              "  </style>\n",
              "\n",
              "      <script>\n",
              "        const buttonEl =\n",
              "          document.querySelector('#df-2f86b043-a296-429a-acfd-d4380a8f1b92 button.colab-df-convert');\n",
              "        buttonEl.style.display =\n",
              "          google.colab.kernel.accessAllowed ? 'block' : 'none';\n",
              "\n",
              "        async function convertToInteractive(key) {\n",
              "          const element = document.querySelector('#df-2f86b043-a296-429a-acfd-d4380a8f1b92');\n",
              "          const dataTable =\n",
              "            await google.colab.kernel.invokeFunction('convertToInteractive',\n",
              "                                                     [key], {});\n",
              "          if (!dataTable) return;\n",
              "\n",
              "          const docLinkHtml = 'Like what you see? Visit the ' +\n",
              "            '<a target=\"_blank\" href=https://colab.research.google.com/notebooks/data_table.ipynb>data table notebook</a>'\n",
              "            + ' to learn more about interactive tables.';\n",
              "          element.innerHTML = '';\n",
              "          dataTable['output_type'] = 'display_data';\n",
              "          await google.colab.output.renderOutput(dataTable, element);\n",
              "          const docLink = document.createElement('div');\n",
              "          docLink.innerHTML = docLinkHtml;\n",
              "          element.appendChild(docLink);\n",
              "        }\n",
              "      </script>\n",
              "    </div>\n",
              "  </div>\n",
              "  "
            ]
          },
          "metadata": {},
          "execution_count": 35
        }
      ]
    },
    {
      "cell_type": "markdown",
      "source": [
        "**ROC Curve and AUC For the Logistic Regression Model**"
      ],
      "metadata": {
        "id": "DHnzh-GWbLnC"
      }
    },
    {
      "cell_type": "code",
      "source": [
        "from sklearn.metrics import roc_curve, auc\n",
        "import matplotlib.pyplot as plt\n",
        "\n",
        "# Predict probabilities for the test data\n",
        "y_prob = model.predict(X_test)\n",
        "\n",
        "# Compute the false positive rate, true positive rate, and threshold values\n",
        "fpr, tpr, thresholds = roc_curve(y_test, y_prob)\n",
        "\n",
        "# Compute the AUC (Area Under the Curve)\n",
        "roc_auc = auc(fpr, tpr)\n",
        "\n",
        "# Plot the ROC curve\n",
        "plt.plot(fpr, tpr, color='blue', lw=2, label='ROC curve (AUC = %0.2f)' % roc_auc)\n",
        "plt.plot([0, 1], [0, 1], color='red', lw=2, linestyle='--')\n",
        "plt.xlim([0.0, 1.0])\n",
        "plt.ylim([0.0, 1.05])\n",
        "plt.xlabel('False Positive Rate')\n",
        "plt.ylabel('True Positive Rate')\n",
        "plt.title('Receiver operating characteristic (ROC) curve')\n",
        "plt.legend(loc=\"lower right\")\n",
        "plt.show()"
      ],
      "metadata": {
        "colab": {
          "base_uri": "https://localhost:8080/"
        },
        "id": "2mUGZ2ztlWVc",
        "outputId": "be3967c4-42e7-4e62-f588-09cd8c194b7b"
      },
      "execution_count": null,
      "outputs": [
        {
          "output_type": "display_data",
          "data": {
            "text/plain": [
              "<Figure size 640x480 with 1 Axes>"
            ],
            "image/png": "[encoded data removed]"
          },
          "metadata": {}
        }
      ]
    },
    {
      "cell_type": "markdown",
      "source": [
        "**Calculating the prediction interval for the logistic regression model.**\n"
      ],
      "metadata": {
        "id": "WjQCvIZebGuG"
      }
    },
    {
      "cell_type": "code",
      "source": [
        "# Calculate prediction interval\n",
        "# Compute the prediction variance\n",
        "pred_var = np.mean((prediction_1 - y_test)**2)\n",
        "\n",
        "# Compute the standard error of the predicted values\n",
        "se = np.sqrt(pred_var / X_test.shape[0])\n",
        "\n",
        "# Set the desired level of confidence (e.g., 95%)\n",
        "conf_level = 0.95\n",
        "\n",
        "# Compute the z-score corresponding to the desired confidence level\n",
        "z_score = 1.96\n",
        "\n",
        "# Compute the upper and lower bounds of the prediction interval\n",
        "upper_bound = prediction_1 + z_score * se\n",
        "lower_bound = prediction_1 - z_score * se\n",
        "upper_bound"
      ],
      "metadata": {
        "colab": {
          "base_uri": "https://localhost:8080/"
        },
        "id": "vDXueWqvZgDb",
        "outputId": "d8014ca1-eca2-4f6d-a5cf-ebd53fb04701"
      },
      "execution_count": null,
      "outputs": [
        {
          "output_type": "execute_result",
          "data": {
            "text/plain": [
              "array([0.00625949, 0.00625949, 0.00625949, ..., 0.00625949, 0.00625949,\n",
              "       0.00625949])"
            ]
          },
          "metadata": {},
          "execution_count": 37
        }
      ]
    },
    {
      "cell_type": "markdown",
      "source": [
        "** Check what percentage of predictions fit inside the prediction interval**"
      ],
      "metadata": {
        "id": "fkKihWmcbqxT"
      }
    },
    {
      "cell_type": "code",
      "source": [
        "within_interval = (prediction_1 >= lower_bound) & (prediction_1 <= upper_bound)\n",
        "\n",
        "# Print the percentage of predictions that fit within the interval\n",
        "print(f\"{np.mean(within_interval)*100:.2f}% of predictions fit within the {conf_level*100}% prediction interval.\")"
      ],
      "metadata": {
        "colab": {
          "base_uri": "https://localhost:8080/"
        },
        "id": "SbilI0s7aHqg",
        "outputId": "7540a994-cd20-4635-8488-e7bb23139238"
      },
      "execution_count": null,
      "outputs": [
        {
          "output_type": "stream",
          "name": "stdout",
          "text": [
            "100.00% of predictions fit within the 95.0% prediction interval.\n"
          ]
        }
      ]
    },
    {
      "cell_type": "code",
      "source": [],
      "metadata": {
        "id": "wAM5q06rbbUC"
      },
      "execution_count": null,
      "outputs": []
    },
    {
      "cell_type": "code",
      "source": [],
      "metadata": {
        "id": "bLvlA8oXcQMj"
      },
      "execution_count": null,
      "outputs": []
    }
  ]
}
